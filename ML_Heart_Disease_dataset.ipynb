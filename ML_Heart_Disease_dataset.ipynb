{
 "cells": [
  {
   "cell_type": "markdown",
   "id": "e3f79e59",
   "metadata": {},
   "source": [
    "1. Importing essential libraries"
   ]
  },
  {
   "cell_type": "code",
   "execution_count": 1,
   "id": "273913ae",
   "metadata": {},
   "outputs": [
    {
     "name": "stdout",
     "output_type": "stream",
     "text": [
      "['heart.csv', 'ML_Heart_Disease_dataset.ipynb']\n"
     ]
    }
   ],
   "source": [
    "import numpy as np\n",
    "import pandas as pd\n",
    "import matplotlib.pyplot as plt\n",
    "import seaborn as sns\n",
    "\n",
    "%matplotlib inline\n",
    "\n",
    "import os\n",
    "print(os.listdir())\n",
    "\n",
    "import warnings\n",
    "warnings.filterwarnings('ignore')\n"
   ]
  },
  {
   "cell_type": "markdown",
   "id": "09f61958",
   "metadata": {},
   "source": [
    "2. Importing the dataset"
   ]
  },
  {
   "cell_type": "code",
   "execution_count": 2,
   "id": "7d95acd9",
   "metadata": {},
   "outputs": [
    {
     "data": {
      "text/html": [
       "<div>\n",
       "<style scoped>\n",
       "    .dataframe tbody tr th:only-of-type {\n",
       "        vertical-align: middle;\n",
       "    }\n",
       "\n",
       "    .dataframe tbody tr th {\n",
       "        vertical-align: top;\n",
       "    }\n",
       "\n",
       "    .dataframe thead th {\n",
       "        text-align: right;\n",
       "    }\n",
       "</style>\n",
       "<table border=\"1\" class=\"dataframe\">\n",
       "  <thead>\n",
       "    <tr style=\"text-align: right;\">\n",
       "      <th></th>\n",
       "      <th>age</th>\n",
       "      <th>sex</th>\n",
       "      <th>cp</th>\n",
       "      <th>trestbps</th>\n",
       "      <th>chol</th>\n",
       "      <th>fbs</th>\n",
       "      <th>restecg</th>\n",
       "      <th>thalach</th>\n",
       "      <th>exang</th>\n",
       "      <th>oldpeak</th>\n",
       "      <th>slope</th>\n",
       "      <th>ca</th>\n",
       "      <th>thal</th>\n",
       "      <th>target</th>\n",
       "    </tr>\n",
       "  </thead>\n",
       "  <tbody>\n",
       "    <tr>\n",
       "      <th>0</th>\n",
       "      <td>52</td>\n",
       "      <td>1</td>\n",
       "      <td>0</td>\n",
       "      <td>125</td>\n",
       "      <td>212</td>\n",
       "      <td>0</td>\n",
       "      <td>1</td>\n",
       "      <td>168</td>\n",
       "      <td>0</td>\n",
       "      <td>1.0</td>\n",
       "      <td>2</td>\n",
       "      <td>2</td>\n",
       "      <td>3</td>\n",
       "      <td>0</td>\n",
       "    </tr>\n",
       "    <tr>\n",
       "      <th>1</th>\n",
       "      <td>53</td>\n",
       "      <td>1</td>\n",
       "      <td>0</td>\n",
       "      <td>140</td>\n",
       "      <td>203</td>\n",
       "      <td>1</td>\n",
       "      <td>0</td>\n",
       "      <td>155</td>\n",
       "      <td>1</td>\n",
       "      <td>3.1</td>\n",
       "      <td>0</td>\n",
       "      <td>0</td>\n",
       "      <td>3</td>\n",
       "      <td>0</td>\n",
       "    </tr>\n",
       "    <tr>\n",
       "      <th>2</th>\n",
       "      <td>70</td>\n",
       "      <td>1</td>\n",
       "      <td>0</td>\n",
       "      <td>145</td>\n",
       "      <td>174</td>\n",
       "      <td>0</td>\n",
       "      <td>1</td>\n",
       "      <td>125</td>\n",
       "      <td>1</td>\n",
       "      <td>2.6</td>\n",
       "      <td>0</td>\n",
       "      <td>0</td>\n",
       "      <td>3</td>\n",
       "      <td>0</td>\n",
       "    </tr>\n",
       "    <tr>\n",
       "      <th>3</th>\n",
       "      <td>61</td>\n",
       "      <td>1</td>\n",
       "      <td>0</td>\n",
       "      <td>148</td>\n",
       "      <td>203</td>\n",
       "      <td>0</td>\n",
       "      <td>1</td>\n",
       "      <td>161</td>\n",
       "      <td>0</td>\n",
       "      <td>0.0</td>\n",
       "      <td>2</td>\n",
       "      <td>1</td>\n",
       "      <td>3</td>\n",
       "      <td>0</td>\n",
       "    </tr>\n",
       "    <tr>\n",
       "      <th>4</th>\n",
       "      <td>62</td>\n",
       "      <td>0</td>\n",
       "      <td>0</td>\n",
       "      <td>138</td>\n",
       "      <td>294</td>\n",
       "      <td>1</td>\n",
       "      <td>1</td>\n",
       "      <td>106</td>\n",
       "      <td>0</td>\n",
       "      <td>1.9</td>\n",
       "      <td>1</td>\n",
       "      <td>3</td>\n",
       "      <td>2</td>\n",
       "      <td>0</td>\n",
       "    </tr>\n",
       "    <tr>\n",
       "      <th>...</th>\n",
       "      <td>...</td>\n",
       "      <td>...</td>\n",
       "      <td>...</td>\n",
       "      <td>...</td>\n",
       "      <td>...</td>\n",
       "      <td>...</td>\n",
       "      <td>...</td>\n",
       "      <td>...</td>\n",
       "      <td>...</td>\n",
       "      <td>...</td>\n",
       "      <td>...</td>\n",
       "      <td>...</td>\n",
       "      <td>...</td>\n",
       "      <td>...</td>\n",
       "    </tr>\n",
       "    <tr>\n",
       "      <th>1020</th>\n",
       "      <td>59</td>\n",
       "      <td>1</td>\n",
       "      <td>1</td>\n",
       "      <td>140</td>\n",
       "      <td>221</td>\n",
       "      <td>0</td>\n",
       "      <td>1</td>\n",
       "      <td>164</td>\n",
       "      <td>1</td>\n",
       "      <td>0.0</td>\n",
       "      <td>2</td>\n",
       "      <td>0</td>\n",
       "      <td>2</td>\n",
       "      <td>1</td>\n",
       "    </tr>\n",
       "    <tr>\n",
       "      <th>1021</th>\n",
       "      <td>60</td>\n",
       "      <td>1</td>\n",
       "      <td>0</td>\n",
       "      <td>125</td>\n",
       "      <td>258</td>\n",
       "      <td>0</td>\n",
       "      <td>0</td>\n",
       "      <td>141</td>\n",
       "      <td>1</td>\n",
       "      <td>2.8</td>\n",
       "      <td>1</td>\n",
       "      <td>1</td>\n",
       "      <td>3</td>\n",
       "      <td>0</td>\n",
       "    </tr>\n",
       "    <tr>\n",
       "      <th>1022</th>\n",
       "      <td>47</td>\n",
       "      <td>1</td>\n",
       "      <td>0</td>\n",
       "      <td>110</td>\n",
       "      <td>275</td>\n",
       "      <td>0</td>\n",
       "      <td>0</td>\n",
       "      <td>118</td>\n",
       "      <td>1</td>\n",
       "      <td>1.0</td>\n",
       "      <td>1</td>\n",
       "      <td>1</td>\n",
       "      <td>2</td>\n",
       "      <td>0</td>\n",
       "    </tr>\n",
       "    <tr>\n",
       "      <th>1023</th>\n",
       "      <td>50</td>\n",
       "      <td>0</td>\n",
       "      <td>0</td>\n",
       "      <td>110</td>\n",
       "      <td>254</td>\n",
       "      <td>0</td>\n",
       "      <td>0</td>\n",
       "      <td>159</td>\n",
       "      <td>0</td>\n",
       "      <td>0.0</td>\n",
       "      <td>2</td>\n",
       "      <td>0</td>\n",
       "      <td>2</td>\n",
       "      <td>1</td>\n",
       "    </tr>\n",
       "    <tr>\n",
       "      <th>1024</th>\n",
       "      <td>54</td>\n",
       "      <td>1</td>\n",
       "      <td>0</td>\n",
       "      <td>120</td>\n",
       "      <td>188</td>\n",
       "      <td>0</td>\n",
       "      <td>1</td>\n",
       "      <td>113</td>\n",
       "      <td>0</td>\n",
       "      <td>1.4</td>\n",
       "      <td>1</td>\n",
       "      <td>1</td>\n",
       "      <td>3</td>\n",
       "      <td>0</td>\n",
       "    </tr>\n",
       "  </tbody>\n",
       "</table>\n",
       "<p>1025 rows × 14 columns</p>\n",
       "</div>"
      ],
      "text/plain": [
       "      age  sex  cp  trestbps  chol  fbs  restecg  thalach  exang  oldpeak  \\\n",
       "0      52    1   0       125   212    0        1      168      0      1.0   \n",
       "1      53    1   0       140   203    1        0      155      1      3.1   \n",
       "2      70    1   0       145   174    0        1      125      1      2.6   \n",
       "3      61    1   0       148   203    0        1      161      0      0.0   \n",
       "4      62    0   0       138   294    1        1      106      0      1.9   \n",
       "...   ...  ...  ..       ...   ...  ...      ...      ...    ...      ...   \n",
       "1020   59    1   1       140   221    0        1      164      1      0.0   \n",
       "1021   60    1   0       125   258    0        0      141      1      2.8   \n",
       "1022   47    1   0       110   275    0        0      118      1      1.0   \n",
       "1023   50    0   0       110   254    0        0      159      0      0.0   \n",
       "1024   54    1   0       120   188    0        1      113      0      1.4   \n",
       "\n",
       "      slope  ca  thal  target  \n",
       "0         2   2     3       0  \n",
       "1         0   0     3       0  \n",
       "2         0   0     3       0  \n",
       "3         2   1     3       0  \n",
       "4         1   3     2       0  \n",
       "...     ...  ..   ...     ...  \n",
       "1020      2   0     2       1  \n",
       "1021      1   1     3       0  \n",
       "1022      1   1     2       0  \n",
       "1023      2   0     2       1  \n",
       "1024      1   1     3       0  \n",
       "\n",
       "[1025 rows x 14 columns]"
      ]
     },
     "execution_count": 2,
     "metadata": {},
     "output_type": "execute_result"
    }
   ],
   "source": [
    "dataset = pd.read_csv(\"heart.csv\")\n",
    "dataset"
   ]
  },
  {
   "cell_type": "code",
   "execution_count": 3,
   "id": "bb8b7be2",
   "metadata": {},
   "outputs": [
    {
     "data": {
      "text/plain": [
       "pandas.core.frame.DataFrame"
      ]
     },
     "execution_count": 3,
     "metadata": {},
     "output_type": "execute_result"
    }
   ],
   "source": [
    "type(dataset)"
   ]
  },
  {
   "cell_type": "code",
   "execution_count": 4,
   "id": "d0e524a3",
   "metadata": {},
   "outputs": [
    {
     "data": {
      "text/plain": [
       "(1025, 14)"
      ]
     },
     "execution_count": 4,
     "metadata": {},
     "output_type": "execute_result"
    }
   ],
   "source": [
    "dataset.shape"
   ]
  },
  {
   "cell_type": "code",
   "execution_count": 5,
   "id": "5328f98d",
   "metadata": {},
   "outputs": [
    {
     "data": {
      "text/html": [
       "<div>\n",
       "<style scoped>\n",
       "    .dataframe tbody tr th:only-of-type {\n",
       "        vertical-align: middle;\n",
       "    }\n",
       "\n",
       "    .dataframe tbody tr th {\n",
       "        vertical-align: top;\n",
       "    }\n",
       "\n",
       "    .dataframe thead th {\n",
       "        text-align: right;\n",
       "    }\n",
       "</style>\n",
       "<table border=\"1\" class=\"dataframe\">\n",
       "  <thead>\n",
       "    <tr style=\"text-align: right;\">\n",
       "      <th></th>\n",
       "      <th>age</th>\n",
       "      <th>sex</th>\n",
       "      <th>cp</th>\n",
       "      <th>trestbps</th>\n",
       "      <th>chol</th>\n",
       "      <th>fbs</th>\n",
       "      <th>restecg</th>\n",
       "      <th>thalach</th>\n",
       "      <th>exang</th>\n",
       "      <th>oldpeak</th>\n",
       "      <th>slope</th>\n",
       "      <th>ca</th>\n",
       "      <th>thal</th>\n",
       "      <th>target</th>\n",
       "    </tr>\n",
       "  </thead>\n",
       "  <tbody>\n",
       "    <tr>\n",
       "      <th>0</th>\n",
       "      <td>52</td>\n",
       "      <td>1</td>\n",
       "      <td>0</td>\n",
       "      <td>125</td>\n",
       "      <td>212</td>\n",
       "      <td>0</td>\n",
       "      <td>1</td>\n",
       "      <td>168</td>\n",
       "      <td>0</td>\n",
       "      <td>1.0</td>\n",
       "      <td>2</td>\n",
       "      <td>2</td>\n",
       "      <td>3</td>\n",
       "      <td>0</td>\n",
       "    </tr>\n",
       "    <tr>\n",
       "      <th>1</th>\n",
       "      <td>53</td>\n",
       "      <td>1</td>\n",
       "      <td>0</td>\n",
       "      <td>140</td>\n",
       "      <td>203</td>\n",
       "      <td>1</td>\n",
       "      <td>0</td>\n",
       "      <td>155</td>\n",
       "      <td>1</td>\n",
       "      <td>3.1</td>\n",
       "      <td>0</td>\n",
       "      <td>0</td>\n",
       "      <td>3</td>\n",
       "      <td>0</td>\n",
       "    </tr>\n",
       "    <tr>\n",
       "      <th>2</th>\n",
       "      <td>70</td>\n",
       "      <td>1</td>\n",
       "      <td>0</td>\n",
       "      <td>145</td>\n",
       "      <td>174</td>\n",
       "      <td>0</td>\n",
       "      <td>1</td>\n",
       "      <td>125</td>\n",
       "      <td>1</td>\n",
       "      <td>2.6</td>\n",
       "      <td>0</td>\n",
       "      <td>0</td>\n",
       "      <td>3</td>\n",
       "      <td>0</td>\n",
       "    </tr>\n",
       "    <tr>\n",
       "      <th>3</th>\n",
       "      <td>61</td>\n",
       "      <td>1</td>\n",
       "      <td>0</td>\n",
       "      <td>148</td>\n",
       "      <td>203</td>\n",
       "      <td>0</td>\n",
       "      <td>1</td>\n",
       "      <td>161</td>\n",
       "      <td>0</td>\n",
       "      <td>0.0</td>\n",
       "      <td>2</td>\n",
       "      <td>1</td>\n",
       "      <td>3</td>\n",
       "      <td>0</td>\n",
       "    </tr>\n",
       "    <tr>\n",
       "      <th>4</th>\n",
       "      <td>62</td>\n",
       "      <td>0</td>\n",
       "      <td>0</td>\n",
       "      <td>138</td>\n",
       "      <td>294</td>\n",
       "      <td>1</td>\n",
       "      <td>1</td>\n",
       "      <td>106</td>\n",
       "      <td>0</td>\n",
       "      <td>1.9</td>\n",
       "      <td>1</td>\n",
       "      <td>3</td>\n",
       "      <td>2</td>\n",
       "      <td>0</td>\n",
       "    </tr>\n",
       "  </tbody>\n",
       "</table>\n",
       "</div>"
      ],
      "text/plain": [
       "   age  sex  cp  trestbps  chol  fbs  restecg  thalach  exang  oldpeak  slope  \\\n",
       "0   52    1   0       125   212    0        1      168      0      1.0      2   \n",
       "1   53    1   0       140   203    1        0      155      1      3.1      0   \n",
       "2   70    1   0       145   174    0        1      125      1      2.6      0   \n",
       "3   61    1   0       148   203    0        1      161      0      0.0      2   \n",
       "4   62    0   0       138   294    1        1      106      0      1.9      1   \n",
       "\n",
       "   ca  thal  target  \n",
       "0   2     3       0  \n",
       "1   0     3       0  \n",
       "2   0     3       0  \n",
       "3   1     3       0  \n",
       "4   3     2       0  "
      ]
     },
     "execution_count": 5,
     "metadata": {},
     "output_type": "execute_result"
    }
   ],
   "source": [
    "dataset.head(5)"
   ]
  },
  {
   "cell_type": "code",
   "execution_count": 6,
   "id": "f083d472",
   "metadata": {},
   "outputs": [
    {
     "data": {
      "text/html": [
       "<div>\n",
       "<style scoped>\n",
       "    .dataframe tbody tr th:only-of-type {\n",
       "        vertical-align: middle;\n",
       "    }\n",
       "\n",
       "    .dataframe tbody tr th {\n",
       "        vertical-align: top;\n",
       "    }\n",
       "\n",
       "    .dataframe thead th {\n",
       "        text-align: right;\n",
       "    }\n",
       "</style>\n",
       "<table border=\"1\" class=\"dataframe\">\n",
       "  <thead>\n",
       "    <tr style=\"text-align: right;\">\n",
       "      <th></th>\n",
       "      <th>age</th>\n",
       "      <th>sex</th>\n",
       "      <th>cp</th>\n",
       "      <th>trestbps</th>\n",
       "      <th>chol</th>\n",
       "      <th>fbs</th>\n",
       "      <th>restecg</th>\n",
       "      <th>thalach</th>\n",
       "      <th>exang</th>\n",
       "      <th>oldpeak</th>\n",
       "      <th>slope</th>\n",
       "      <th>ca</th>\n",
       "      <th>thal</th>\n",
       "      <th>target</th>\n",
       "    </tr>\n",
       "  </thead>\n",
       "  <tbody>\n",
       "    <tr>\n",
       "      <th>47</th>\n",
       "      <td>66</td>\n",
       "      <td>0</td>\n",
       "      <td>0</td>\n",
       "      <td>178</td>\n",
       "      <td>228</td>\n",
       "      <td>1</td>\n",
       "      <td>1</td>\n",
       "      <td>165</td>\n",
       "      <td>1</td>\n",
       "      <td>1.0</td>\n",
       "      <td>1</td>\n",
       "      <td>2</td>\n",
       "      <td>3</td>\n",
       "      <td>0</td>\n",
       "    </tr>\n",
       "    <tr>\n",
       "      <th>620</th>\n",
       "      <td>57</td>\n",
       "      <td>1</td>\n",
       "      <td>0</td>\n",
       "      <td>152</td>\n",
       "      <td>274</td>\n",
       "      <td>0</td>\n",
       "      <td>1</td>\n",
       "      <td>88</td>\n",
       "      <td>1</td>\n",
       "      <td>1.2</td>\n",
       "      <td>1</td>\n",
       "      <td>1</td>\n",
       "      <td>3</td>\n",
       "      <td>0</td>\n",
       "    </tr>\n",
       "    <tr>\n",
       "      <th>690</th>\n",
       "      <td>58</td>\n",
       "      <td>1</td>\n",
       "      <td>2</td>\n",
       "      <td>105</td>\n",
       "      <td>240</td>\n",
       "      <td>0</td>\n",
       "      <td>0</td>\n",
       "      <td>154</td>\n",
       "      <td>1</td>\n",
       "      <td>0.6</td>\n",
       "      <td>1</td>\n",
       "      <td>0</td>\n",
       "      <td>3</td>\n",
       "      <td>1</td>\n",
       "    </tr>\n",
       "    <tr>\n",
       "      <th>456</th>\n",
       "      <td>47</td>\n",
       "      <td>1</td>\n",
       "      <td>2</td>\n",
       "      <td>108</td>\n",
       "      <td>243</td>\n",
       "      <td>0</td>\n",
       "      <td>1</td>\n",
       "      <td>152</td>\n",
       "      <td>0</td>\n",
       "      <td>0.0</td>\n",
       "      <td>2</td>\n",
       "      <td>0</td>\n",
       "      <td>2</td>\n",
       "      <td>0</td>\n",
       "    </tr>\n",
       "    <tr>\n",
       "      <th>108</th>\n",
       "      <td>40</td>\n",
       "      <td>1</td>\n",
       "      <td>0</td>\n",
       "      <td>152</td>\n",
       "      <td>223</td>\n",
       "      <td>0</td>\n",
       "      <td>1</td>\n",
       "      <td>181</td>\n",
       "      <td>0</td>\n",
       "      <td>0.0</td>\n",
       "      <td>2</td>\n",
       "      <td>0</td>\n",
       "      <td>3</td>\n",
       "      <td>0</td>\n",
       "    </tr>\n",
       "  </tbody>\n",
       "</table>\n",
       "</div>"
      ],
      "text/plain": [
       "     age  sex  cp  trestbps  chol  fbs  restecg  thalach  exang  oldpeak  \\\n",
       "47    66    0   0       178   228    1        1      165      1      1.0   \n",
       "620   57    1   0       152   274    0        1       88      1      1.2   \n",
       "690   58    1   2       105   240    0        0      154      1      0.6   \n",
       "456   47    1   2       108   243    0        1      152      0      0.0   \n",
       "108   40    1   0       152   223    0        1      181      0      0.0   \n",
       "\n",
       "     slope  ca  thal  target  \n",
       "47       1   2     3       0  \n",
       "620      1   1     3       0  \n",
       "690      1   0     3       1  \n",
       "456      2   0     2       0  \n",
       "108      2   0     3       0  "
      ]
     },
     "execution_count": 6,
     "metadata": {},
     "output_type": "execute_result"
    }
   ],
   "source": [
    "dataset.sample(5)"
   ]
  },
  {
   "cell_type": "code",
   "execution_count": 7,
   "id": "f22158b4",
   "metadata": {},
   "outputs": [
    {
     "data": {
      "text/html": [
       "<div>\n",
       "<style scoped>\n",
       "    .dataframe tbody tr th:only-of-type {\n",
       "        vertical-align: middle;\n",
       "    }\n",
       "\n",
       "    .dataframe tbody tr th {\n",
       "        vertical-align: top;\n",
       "    }\n",
       "\n",
       "    .dataframe thead th {\n",
       "        text-align: right;\n",
       "    }\n",
       "</style>\n",
       "<table border=\"1\" class=\"dataframe\">\n",
       "  <thead>\n",
       "    <tr style=\"text-align: right;\">\n",
       "      <th></th>\n",
       "      <th>age</th>\n",
       "      <th>sex</th>\n",
       "      <th>cp</th>\n",
       "      <th>trestbps</th>\n",
       "      <th>chol</th>\n",
       "      <th>fbs</th>\n",
       "      <th>restecg</th>\n",
       "      <th>thalach</th>\n",
       "      <th>exang</th>\n",
       "      <th>oldpeak</th>\n",
       "      <th>slope</th>\n",
       "      <th>ca</th>\n",
       "      <th>thal</th>\n",
       "      <th>target</th>\n",
       "    </tr>\n",
       "  </thead>\n",
       "  <tbody>\n",
       "    <tr>\n",
       "      <th>count</th>\n",
       "      <td>1025.000000</td>\n",
       "      <td>1025.000000</td>\n",
       "      <td>1025.000000</td>\n",
       "      <td>1025.000000</td>\n",
       "      <td>1025.00000</td>\n",
       "      <td>1025.000000</td>\n",
       "      <td>1025.000000</td>\n",
       "      <td>1025.000000</td>\n",
       "      <td>1025.000000</td>\n",
       "      <td>1025.000000</td>\n",
       "      <td>1025.000000</td>\n",
       "      <td>1025.000000</td>\n",
       "      <td>1025.000000</td>\n",
       "      <td>1025.000000</td>\n",
       "    </tr>\n",
       "    <tr>\n",
       "      <th>mean</th>\n",
       "      <td>54.434146</td>\n",
       "      <td>0.695610</td>\n",
       "      <td>0.942439</td>\n",
       "      <td>131.611707</td>\n",
       "      <td>246.00000</td>\n",
       "      <td>0.149268</td>\n",
       "      <td>0.529756</td>\n",
       "      <td>149.114146</td>\n",
       "      <td>0.336585</td>\n",
       "      <td>1.071512</td>\n",
       "      <td>1.385366</td>\n",
       "      <td>0.754146</td>\n",
       "      <td>2.323902</td>\n",
       "      <td>0.513171</td>\n",
       "    </tr>\n",
       "    <tr>\n",
       "      <th>std</th>\n",
       "      <td>9.072290</td>\n",
       "      <td>0.460373</td>\n",
       "      <td>1.029641</td>\n",
       "      <td>17.516718</td>\n",
       "      <td>51.59251</td>\n",
       "      <td>0.356527</td>\n",
       "      <td>0.527878</td>\n",
       "      <td>23.005724</td>\n",
       "      <td>0.472772</td>\n",
       "      <td>1.175053</td>\n",
       "      <td>0.617755</td>\n",
       "      <td>1.030798</td>\n",
       "      <td>0.620660</td>\n",
       "      <td>0.500070</td>\n",
       "    </tr>\n",
       "    <tr>\n",
       "      <th>min</th>\n",
       "      <td>29.000000</td>\n",
       "      <td>0.000000</td>\n",
       "      <td>0.000000</td>\n",
       "      <td>94.000000</td>\n",
       "      <td>126.00000</td>\n",
       "      <td>0.000000</td>\n",
       "      <td>0.000000</td>\n",
       "      <td>71.000000</td>\n",
       "      <td>0.000000</td>\n",
       "      <td>0.000000</td>\n",
       "      <td>0.000000</td>\n",
       "      <td>0.000000</td>\n",
       "      <td>0.000000</td>\n",
       "      <td>0.000000</td>\n",
       "    </tr>\n",
       "    <tr>\n",
       "      <th>25%</th>\n",
       "      <td>48.000000</td>\n",
       "      <td>0.000000</td>\n",
       "      <td>0.000000</td>\n",
       "      <td>120.000000</td>\n",
       "      <td>211.00000</td>\n",
       "      <td>0.000000</td>\n",
       "      <td>0.000000</td>\n",
       "      <td>132.000000</td>\n",
       "      <td>0.000000</td>\n",
       "      <td>0.000000</td>\n",
       "      <td>1.000000</td>\n",
       "      <td>0.000000</td>\n",
       "      <td>2.000000</td>\n",
       "      <td>0.000000</td>\n",
       "    </tr>\n",
       "    <tr>\n",
       "      <th>50%</th>\n",
       "      <td>56.000000</td>\n",
       "      <td>1.000000</td>\n",
       "      <td>1.000000</td>\n",
       "      <td>130.000000</td>\n",
       "      <td>240.00000</td>\n",
       "      <td>0.000000</td>\n",
       "      <td>1.000000</td>\n",
       "      <td>152.000000</td>\n",
       "      <td>0.000000</td>\n",
       "      <td>0.800000</td>\n",
       "      <td>1.000000</td>\n",
       "      <td>0.000000</td>\n",
       "      <td>2.000000</td>\n",
       "      <td>1.000000</td>\n",
       "    </tr>\n",
       "    <tr>\n",
       "      <th>75%</th>\n",
       "      <td>61.000000</td>\n",
       "      <td>1.000000</td>\n",
       "      <td>2.000000</td>\n",
       "      <td>140.000000</td>\n",
       "      <td>275.00000</td>\n",
       "      <td>0.000000</td>\n",
       "      <td>1.000000</td>\n",
       "      <td>166.000000</td>\n",
       "      <td>1.000000</td>\n",
       "      <td>1.800000</td>\n",
       "      <td>2.000000</td>\n",
       "      <td>1.000000</td>\n",
       "      <td>3.000000</td>\n",
       "      <td>1.000000</td>\n",
       "    </tr>\n",
       "    <tr>\n",
       "      <th>max</th>\n",
       "      <td>77.000000</td>\n",
       "      <td>1.000000</td>\n",
       "      <td>3.000000</td>\n",
       "      <td>200.000000</td>\n",
       "      <td>564.00000</td>\n",
       "      <td>1.000000</td>\n",
       "      <td>2.000000</td>\n",
       "      <td>202.000000</td>\n",
       "      <td>1.000000</td>\n",
       "      <td>6.200000</td>\n",
       "      <td>2.000000</td>\n",
       "      <td>4.000000</td>\n",
       "      <td>3.000000</td>\n",
       "      <td>1.000000</td>\n",
       "    </tr>\n",
       "  </tbody>\n",
       "</table>\n",
       "</div>"
      ],
      "text/plain": [
       "               age          sex           cp     trestbps        chol  \\\n",
       "count  1025.000000  1025.000000  1025.000000  1025.000000  1025.00000   \n",
       "mean     54.434146     0.695610     0.942439   131.611707   246.00000   \n",
       "std       9.072290     0.460373     1.029641    17.516718    51.59251   \n",
       "min      29.000000     0.000000     0.000000    94.000000   126.00000   \n",
       "25%      48.000000     0.000000     0.000000   120.000000   211.00000   \n",
       "50%      56.000000     1.000000     1.000000   130.000000   240.00000   \n",
       "75%      61.000000     1.000000     2.000000   140.000000   275.00000   \n",
       "max      77.000000     1.000000     3.000000   200.000000   564.00000   \n",
       "\n",
       "               fbs      restecg      thalach        exang      oldpeak  \\\n",
       "count  1025.000000  1025.000000  1025.000000  1025.000000  1025.000000   \n",
       "mean      0.149268     0.529756   149.114146     0.336585     1.071512   \n",
       "std       0.356527     0.527878    23.005724     0.472772     1.175053   \n",
       "min       0.000000     0.000000    71.000000     0.000000     0.000000   \n",
       "25%       0.000000     0.000000   132.000000     0.000000     0.000000   \n",
       "50%       0.000000     1.000000   152.000000     0.000000     0.800000   \n",
       "75%       0.000000     1.000000   166.000000     1.000000     1.800000   \n",
       "max       1.000000     2.000000   202.000000     1.000000     6.200000   \n",
       "\n",
       "             slope           ca         thal       target  \n",
       "count  1025.000000  1025.000000  1025.000000  1025.000000  \n",
       "mean      1.385366     0.754146     2.323902     0.513171  \n",
       "std       0.617755     1.030798     0.620660     0.500070  \n",
       "min       0.000000     0.000000     0.000000     0.000000  \n",
       "25%       1.000000     0.000000     2.000000     0.000000  \n",
       "50%       1.000000     0.000000     2.000000     1.000000  \n",
       "75%       2.000000     1.000000     3.000000     1.000000  \n",
       "max       2.000000     4.000000     3.000000     1.000000  "
      ]
     },
     "execution_count": 7,
     "metadata": {},
     "output_type": "execute_result"
    }
   ],
   "source": [
    "dataset.describe()"
   ]
  },
  {
   "cell_type": "code",
   "execution_count": 8,
   "id": "540482aa",
   "metadata": {},
   "outputs": [
    {
     "name": "stdout",
     "output_type": "stream",
     "text": [
      "<class 'pandas.core.frame.DataFrame'>\n",
      "RangeIndex: 1025 entries, 0 to 1024\n",
      "Data columns (total 14 columns):\n",
      " #   Column    Non-Null Count  Dtype  \n",
      "---  ------    --------------  -----  \n",
      " 0   age       1025 non-null   int64  \n",
      " 1   sex       1025 non-null   int64  \n",
      " 2   cp        1025 non-null   int64  \n",
      " 3   trestbps  1025 non-null   int64  \n",
      " 4   chol      1025 non-null   int64  \n",
      " 5   fbs       1025 non-null   int64  \n",
      " 6   restecg   1025 non-null   int64  \n",
      " 7   thalach   1025 non-null   int64  \n",
      " 8   exang     1025 non-null   int64  \n",
      " 9   oldpeak   1025 non-null   float64\n",
      " 10  slope     1025 non-null   int64  \n",
      " 11  ca        1025 non-null   int64  \n",
      " 12  thal      1025 non-null   int64  \n",
      " 13  target    1025 non-null   int64  \n",
      "dtypes: float64(1), int64(13)\n",
      "memory usage: 112.2 KB\n"
     ]
    }
   ],
   "source": [
    "dataset.info()"
   ]
  },
  {
   "cell_type": "code",
   "execution_count": 9,
   "id": "fdd7e565",
   "metadata": {},
   "outputs": [
    {
     "name": "stdout",
     "output_type": "stream",
     "text": [
      "age:\t\t\tage\n",
      "sex:\t\t\t1: male, 0: female\n",
      "cp:\t\t\tchest pain type, 1: typical angina, 2:atypical angina, 3: non-anginal pain, 4:asymptomatic\n",
      "trestbps:\t\t\tresting blood pressure\n",
      "chol:\t\t\tserum cholestoral in mg/dl\n",
      "fbs:\t\t\tfasting blood sugar > 120mg/dl\n",
      "restecg:\t\t\tresting electrocardiographic result (values 0,1,2)\n",
      "thalach:\t\t\tmaximum heart rate achieved\n",
      "exang:\t\t\texercise induced angina\n",
      "oldpeak:\t\t\toldpeak = ST depression induced by exercise relative to rest\n",
      "slope:\t\t\tthe slop of the peak exercise ST segment\n",
      "ca:\t\t\tnumber of major vessels(0-3) colored by flourosopy\n",
      "thal:\t\t\tthal: 3 = normal; 6 = fixed defect; 7 = reversable defect\n"
     ]
    }
   ],
   "source": [
    "info = [\"age\",\"1: male, 0: female\", \n",
    "        \"chest pain type, 1: typical angina, 2:atypical angina, 3: non-anginal pain, 4:asymptomatic\",\n",
    "        \"resting blood pressure\", \"serum cholestoral in mg/dl\",\"fasting blood sugar > 120mg/dl\",\n",
    "        \"resting electrocardiographic result (values 0,1,2)\", \"maximum heart rate achieved\",\n",
    "        \"exercise induced angina\", \"oldpeak = ST depression induced by exercise relative to rest\",\n",
    "        \"the slop of the peak exercise ST segment\", \"number of major vessels(0-3) colored by flourosopy\",\n",
    "        \"thal: 3 = normal; 6 = fixed defect; 7 = reversable defect\"]\n",
    "\n",
    "for i in range (len(info)):\n",
    "    print(dataset.columns[i]+ \":\\t\\t\\t\"+info[i])"
   ]
  },
  {
   "cell_type": "code",
   "execution_count": 10,
   "id": "2c537de4",
   "metadata": {},
   "outputs": [
    {
     "data": {
      "text/plain": [
       "count    1025.000000\n",
       "mean        0.513171\n",
       "std         0.500070\n",
       "min         0.000000\n",
       "25%         0.000000\n",
       "50%         1.000000\n",
       "75%         1.000000\n",
       "max         1.000000\n",
       "Name: target, dtype: float64"
      ]
     },
     "execution_count": 10,
     "metadata": {},
     "output_type": "execute_result"
    }
   ],
   "source": [
    "dataset[\"target\"].describe()"
   ]
  },
  {
   "cell_type": "code",
   "execution_count": 11,
   "id": "cf560618",
   "metadata": {},
   "outputs": [
    {
     "data": {
      "text/plain": [
       "array([0, 1], dtype=int64)"
      ]
     },
     "execution_count": 11,
     "metadata": {},
     "output_type": "execute_result"
    }
   ],
   "source": [
    "dataset[\"target\"].unique()"
   ]
  },
  {
   "cell_type": "code",
   "execution_count": 12,
   "id": "f5618d9f",
   "metadata": {},
   "outputs": [
    {
     "name": "stdout",
     "output_type": "stream",
     "text": [
      "target      1.000000\n",
      "oldpeak     0.438441\n",
      "exang       0.438029\n",
      "cp          0.434854\n",
      "thalach     0.422895\n",
      "ca          0.382085\n",
      "slope       0.345512\n",
      "thal        0.337838\n",
      "sex         0.279501\n",
      "age         0.229324\n",
      "trestbps    0.138772\n",
      "restecg     0.134468\n",
      "chol        0.099966\n",
      "fbs         0.041164\n",
      "Name: target, dtype: float64\n"
     ]
    }
   ],
   "source": [
    "print(dataset.corr()[\"target\"].abs().sort_values(ascending=False))"
   ]
  },
  {
   "cell_type": "markdown",
   "id": "7d284c61",
   "metadata": {},
   "source": [
    "Analysing the target variable"
   ]
  },
  {
   "cell_type": "code",
   "execution_count": 13,
   "id": "a749b731",
   "metadata": {},
   "outputs": [
    {
     "data": {
      "image/png": "[encoded data removed]",
      "text/plain": [
       "<Figure size 640x480 with 1 Axes>"
      ]
     },
     "metadata": {},
     "output_type": "display_data"
    }
   ],
   "source": [
    "sns.countplot(x=dataset[\"target\"])\n",
    "\n",
    "for p in plt.gca().patches:\n",
    "    plt.gca().annotate(f'{p.get_height()}', (p.get_x() + 0.3, p.get_height() + 5))\n",
    "\n",
    "plt.title(\"Heart Disease Count\")\n",
    "plt.xlabel(\"Target (0 = No Disease, 1 = Disease)\")\n",
    "plt.ylabel(\"Number of People\")\n",
    "plt.show()"
   ]
  },
  {
   "cell_type": "code",
   "execution_count": 14,
   "id": "5420eeef",
   "metadata": {},
   "outputs": [
    {
     "name": "stdout",
     "output_type": "stream",
     "text": [
      "Percentage of patients **without** heart disease: 48.68 %\n",
      "Percentage of patients **with** heart disease: 51.32 %\n"
     ]
    }
   ],
   "source": [
    "target_temp = dataset[\"target\"].value_counts()\n",
    "\n",
    "total = len(dataset)\n",
    "\n",
    "print(\"Percentage of patients **without** heart disease:\", round(target_temp[0] * 100 / total, 2), \"%\")\n",
    "print(\"Percentage of patients **with** heart disease:\", round(target_temp[1] * 100 / total, 2), \"%\")\n"
   ]
  },
  {
   "cell_type": "code",
   "execution_count": 15,
   "id": "f829ef19",
   "metadata": {},
   "outputs": [
    {
     "data": {
      "text/plain": [
       "array([1, 0], dtype=int64)"
      ]
     },
     "execution_count": 15,
     "metadata": {},
     "output_type": "execute_result"
    }
   ],
   "source": [
    "dataset[\"sex\"].unique()"
   ]
  },
  {
   "cell_type": "code",
   "execution_count": 16,
   "id": "7b471a33",
   "metadata": {},
   "outputs": [
    {
     "data": {
      "text/plain": [
       "<Axes: xlabel='sex', ylabel='target'>"
      ]
     },
     "execution_count": 16,
     "metadata": {},
     "output_type": "execute_result"
    },
    {
     "data": {
      "image/png": "[encoded data removed]",
      "text/plain": [
       "<Figure size 640x480 with 1 Axes>"
      ]
     },
     "metadata": {},
     "output_type": "display_data"
    }
   ],
   "source": [
    "sns.barplot(x=\"sex\", y=\"target\", data=dataset)"
   ]
  },
  {
   "cell_type": "code",
   "execution_count": 17,
   "id": "a511f2bc",
   "metadata": {},
   "outputs": [
    {
     "data": {
      "text/plain": [
       "array([0, 1, 2, 3], dtype=int64)"
      ]
     },
     "execution_count": 17,
     "metadata": {},
     "output_type": "execute_result"
    }
   ],
   "source": [
    "dataset[\"cp\"].unique()"
   ]
  },
  {
   "cell_type": "code",
   "execution_count": 18,
   "id": "769c40b2",
   "metadata": {},
   "outputs": [
    {
     "data": {
      "text/plain": [
       "Text(0.5, 0, 'Target (0 = No Disease, 1 = Disease)')"
      ]
     },
     "execution_count": 18,
     "metadata": {},
     "output_type": "execute_result"
    },
    {
     "data": {
      "image/png": "[encoded data removed]",
      "text/plain": [
       "<Figure size 640x480 with 1 Axes>"
      ]
     },
     "metadata": {},
     "output_type": "display_data"
    }
   ],
   "source": [
    "sns.barplot(x=\"cp\", y=\"target\", data=dataset)\n",
    "plt.xlabel(\"Target (0 = No Disease, 1 = Disease)\")"
   ]
  },
  {
   "cell_type": "code",
   "execution_count": 19,
   "id": "1ea56197",
   "metadata": {},
   "outputs": [
    {
     "data": {
      "text/plain": [
       "count    1025.000000\n",
       "mean        0.149268\n",
       "std         0.356527\n",
       "min         0.000000\n",
       "25%         0.000000\n",
       "50%         0.000000\n",
       "75%         0.000000\n",
       "max         1.000000\n",
       "Name: fbs, dtype: float64"
      ]
     },
     "execution_count": 19,
     "metadata": {},
     "output_type": "execute_result"
    }
   ],
   "source": [
    "dataset[\"fbs\"].describe()"
   ]
  },
  {
   "cell_type": "code",
   "execution_count": 20,
   "id": "f39dd13b",
   "metadata": {},
   "outputs": [
    {
     "data": {
      "text/plain": [
       "array([0, 1], dtype=int64)"
      ]
     },
     "execution_count": 20,
     "metadata": {},
     "output_type": "execute_result"
    }
   ],
   "source": [
    "dataset[\"fbs\"].unique()"
   ]
  },
  {
   "cell_type": "code",
   "execution_count": 21,
   "id": "844149bf",
   "metadata": {},
   "outputs": [
    {
     "data": {
      "text/plain": [
       "<Axes: xlabel='fbs', ylabel='target'>"
      ]
     },
     "execution_count": 21,
     "metadata": {},
     "output_type": "execute_result"
    },
    {
     "data": {
      "image/png": "[encoded data removed]",
      "text/plain": [
       "<Figure size 640x480 with 1 Axes>"
      ]
     },
     "metadata": {},
     "output_type": "display_data"
    }
   ],
   "source": [
    "sns.barplot(x = \"fbs\", y = \"target\", data=dataset)"
   ]
  },
  {
   "cell_type": "code",
   "execution_count": 22,
   "id": "fd83f871",
   "metadata": {},
   "outputs": [
    {
     "data": {
      "text/plain": [
       "array([1, 0, 2], dtype=int64)"
      ]
     },
     "execution_count": 22,
     "metadata": {},
     "output_type": "execute_result"
    }
   ],
   "source": [
    "dataset[\"restecg\"].unique()"
   ]
  },
  {
   "cell_type": "code",
   "execution_count": 23,
   "id": "a980852d",
   "metadata": {},
   "outputs": [
    {
     "data": {
      "text/plain": [
       "<Axes: xlabel='restecg', ylabel='target'>"
      ]
     },
     "execution_count": 23,
     "metadata": {},
     "output_type": "execute_result"
    },
    {
     "data": {
      "image/png": "[encoded data removed]",
      "text/plain": [
       "<Figure size 640x480 with 1 Axes>"
      ]
     },
     "metadata": {},
     "output_type": "display_data"
    }
   ],
   "source": [
    "sns.barplot(x = \"restecg\", y = \"target\", data=dataset)"
   ]
  },
  {
   "cell_type": "code",
   "execution_count": 24,
   "id": "c8de1e86",
   "metadata": {},
   "outputs": [
    {
     "data": {
      "text/plain": [
       "array([0, 1], dtype=int64)"
      ]
     },
     "execution_count": 24,
     "metadata": {},
     "output_type": "execute_result"
    }
   ],
   "source": [
    "dataset[\"exang\"].unique()"
   ]
  },
  {
   "cell_type": "code",
   "execution_count": 25,
   "id": "8a406637",
   "metadata": {},
   "outputs": [
    {
     "data": {
      "text/plain": [
       "<Axes: xlabel='exang', ylabel='target'>"
      ]
     },
     "execution_count": 25,
     "metadata": {},
     "output_type": "execute_result"
    },
    {
     "data": {
      "image/png": "[encoded data removed]",
      "text/plain": [
       "<Figure size 640x480 with 1 Axes>"
      ]
     },
     "metadata": {},
     "output_type": "display_data"
    }
   ],
   "source": [
    "sns.barplot(x=\"exang\", y=\"target\", data= dataset)"
   ]
  },
  {
   "cell_type": "code",
   "execution_count": 26,
   "id": "4e99f4ad",
   "metadata": {},
   "outputs": [
    {
     "data": {
      "text/plain": [
       "array([2, 0, 1], dtype=int64)"
      ]
     },
     "execution_count": 26,
     "metadata": {},
     "output_type": "execute_result"
    }
   ],
   "source": [
    "dataset[\"slope\"].unique()"
   ]
  },
  {
   "cell_type": "code",
   "execution_count": 27,
   "id": "9799246e",
   "metadata": {},
   "outputs": [
    {
     "data": {
      "text/plain": [
       "<Axes: xlabel='slope', ylabel='target'>"
      ]
     },
     "execution_count": 27,
     "metadata": {},
     "output_type": "execute_result"
    },
    {
     "data": {
      "image/png": "[encoded data removed]",
      "text/plain": [
       "<Figure size 640x480 with 1 Axes>"
      ]
     },
     "metadata": {},
     "output_type": "display_data"
    }
   ],
   "source": [
    "sns.barplot(x=\"slope\", y=\"target\", data=dataset)"
   ]
  },
  {
   "cell_type": "code",
   "execution_count": 28,
   "id": "d649d3a0",
   "metadata": {},
   "outputs": [
    {
     "data": {
      "text/plain": [
       "array([2, 0, 1, 3, 4], dtype=int64)"
      ]
     },
     "execution_count": 28,
     "metadata": {},
     "output_type": "execute_result"
    }
   ],
   "source": [
    "dataset[\"ca\"].unique()"
   ]
  },
  {
   "cell_type": "code",
   "execution_count": 29,
   "id": "5e82ceee",
   "metadata": {},
   "outputs": [
    {
     "data": {
      "text/plain": [
       "<Axes: xlabel='ca', ylabel='target'>"
      ]
     },
     "execution_count": 29,
     "metadata": {},
     "output_type": "execute_result"
    },
    {
     "data": {
      "image/png": "[encoded data removed]",
      "text/plain": [
       "<Figure size 640x480 with 1 Axes>"
      ]
     },
     "metadata": {},
     "output_type": "display_data"
    }
   ],
   "source": [
    "sns.barplot(x=\"ca\", y=\"target\", data=dataset)"
   ]
  },
  {
   "cell_type": "code",
   "execution_count": 30,
   "id": "b569cbdf",
   "metadata": {},
   "outputs": [
    {
     "data": {
      "text/plain": [
       "array([3, 2, 1, 0], dtype=int64)"
      ]
     },
     "execution_count": 30,
     "metadata": {},
     "output_type": "execute_result"
    }
   ],
   "source": [
    "dataset[\"thal\"].unique()"
   ]
  },
  {
   "cell_type": "code",
   "execution_count": 31,
   "id": "c775c676",
   "metadata": {},
   "outputs": [
    {
     "data": {
      "text/plain": [
       "<Axes: xlabel='thal', ylabel='target'>"
      ]
     },
     "execution_count": 31,
     "metadata": {},
     "output_type": "execute_result"
    },
    {
     "data": {
      "image/png": "[encoded data removed]",
      "text/plain": [
       "<Figure size 640x480 with 1 Axes>"
      ]
     },
     "metadata": {},
     "output_type": "display_data"
    }
   ],
   "source": [
    "sns.barplot(x=\"thal\", y=\"target\", data=dataset)"
   ]
  },
  {
   "cell_type": "code",
   "execution_count": 32,
   "id": "d56c1559",
   "metadata": {},
   "outputs": [
    {
     "data": {
      "image/png": "[encoded data removed]",
      "text/plain": [
       "<Figure size 500x500 with 1 Axes>"
      ]
     },
     "metadata": {},
     "output_type": "display_data"
    }
   ],
   "source": [
    "sns.displot(dataset[\"thal\"], kde=True)\n",
    "plt.show()"
   ]
  },
  {
   "cell_type": "markdown",
   "id": "215bd3b7",
   "metadata": {},
   "source": [
    "4. Train Test Split"
   ]
  },
  {
   "cell_type": "code",
   "execution_count": 33,
   "id": "6cec81ce",
   "metadata": {},
   "outputs": [],
   "source": [
    "from sklearn.model_selection import train_test_split\n",
    "\n",
    "prediction = dataset.drop(\"target\", axis=1)\n",
    "target = dataset[\"target\"]\n",
    "\n",
    "x_train,x_test,y_train,y_test = train_test_split(prediction,target,test_size=0.20,random_state=0)"
   ]
  },
  {
   "cell_type": "markdown",
   "id": "49288289",
   "metadata": {},
   "source": [
    "Model Fitting"
   ]
  },
  {
   "cell_type": "markdown",
   "id": "88d2c00a",
   "metadata": {},
   "source": [
    "1) linear regression\n",
    "2) logistic regression\n",
    "3) polynomial regression\n",
    "4) ridge regression\n",
    "5) lasso regression\n",
    "6) tree-based methods like decision tree, random forest, and gradient boosting"
   ]
  },
  {
   "cell_type": "code",
   "execution_count": 34,
   "id": "b12c1934",
   "metadata": {},
   "outputs": [],
   "source": [
    "from sklearn.linear_model import LogisticRegression\n",
    "lr = LogisticRegression()\n",
    "lr.fit(x_train, y_train)\n",
    "y_pred_lr = lr.predict(x_test)"
   ]
  },
  {
   "cell_type": "code",
   "execution_count": 35,
   "id": "5a9e6b1d",
   "metadata": {},
   "outputs": [
    {
     "name": "stdout",
     "output_type": "stream",
     "text": [
      "Accuracy score of lr : 86.34%\n"
     ]
    }
   ],
   "source": [
    "from sklearn.metrics import accuracy_score\n",
    "\n",
    "score_lr = round(accuracy_score(y_pred_lr,y_test)*100, 2)\n",
    "print(\"Accuracy score of lr : \" + str(score_lr)+ \"%\")"
   ]
  },
  {
   "cell_type": "markdown",
   "id": "780c28b9",
   "metadata": {},
   "source": [
    "Naive Bayes\n"
   ]
  },
  {
   "cell_type": "code",
   "execution_count": 36,
   "id": "e13c2416",
   "metadata": {},
   "outputs": [],
   "source": [
    "from sklearn.naive_bayes import GaussianNB\n",
    "nb = GaussianNB()\n",
    "nb.fit(x_train, y_train)\n",
    "y_pred_nb = nb.predict(x_test)"
   ]
  },
  {
   "cell_type": "code",
   "execution_count": 37,
   "id": "d199dc97",
   "metadata": {},
   "outputs": [
    {
     "name": "stdout",
     "output_type": "stream",
     "text": [
      "Accuracy Score of NB : 85.37%\n"
     ]
    }
   ],
   "source": [
    "score_nb = round(accuracy_score(y_pred_nb, y_test)*100, 2)\n",
    "print(\"Accuracy Score of NB : \" + str(score_nb) + \"%\")"
   ]
  },
  {
   "cell_type": "markdown",
   "id": "f1f424de",
   "metadata": {},
   "source": [
    "SVM"
   ]
  },
  {
   "cell_type": "code",
   "execution_count": 38,
   "id": "595c6fb3",
   "metadata": {},
   "outputs": [],
   "source": [
    "from sklearn import svm\n",
    "sv = svm.SVC(kernel='linear')\n",
    "sv.fit(x_train,y_train)\n",
    "y_pred_svm = sv.predict(x_test)"
   ]
  },
  {
   "cell_type": "code",
   "execution_count": 39,
   "id": "de82fbed",
   "metadata": {},
   "outputs": [
    {
     "name": "stdout",
     "output_type": "stream",
     "text": [
      "Accuracy Score : 83.9%\n"
     ]
    }
   ],
   "source": [
    "score_svm = round(accuracy_score(y_pred_svm,y_test)*100, 2)\n",
    "print(\"Accuracy Score : \" + str(score_svm) + \"%\")"
   ]
  },
  {
   "cell_type": "markdown",
   "id": "9c0e2eca",
   "metadata": {},
   "source": [
    "KNN"
   ]
  },
  {
   "cell_type": "code",
   "execution_count": 40,
   "id": "f8307fff",
   "metadata": {},
   "outputs": [],
   "source": [
    "from sklearn.neighbors import KNeighborsClassifier\n",
    "knn = KNeighborsClassifier(n_neighbors=7)\n",
    "knn.fit(x_train,y_train)\n",
    "y_pred_knn = knn.predict(x_test)"
   ]
  },
  {
   "cell_type": "code",
   "execution_count": 41,
   "id": "947adb4a",
   "metadata": {},
   "outputs": [
    {
     "name": "stdout",
     "output_type": "stream",
     "text": [
      "Accuracy Score : 72.2%\n"
     ]
    }
   ],
   "source": [
    "score_knn = round(accuracy_score(y_pred_knn, y_test)*100, 2)\n",
    "print(\"Accuracy Score : \" + str(score_knn) + \"%\")"
   ]
  },
  {
   "cell_type": "markdown",
   "id": "cd03cb16",
   "metadata": {},
   "source": [
    "Decision Tree"
   ]
  },
  {
   "cell_type": "code",
   "execution_count": 42,
   "id": "85776e0e",
   "metadata": {},
   "outputs": [
    {
     "name": "stdout",
     "output_type": "stream",
     "text": [
      "Best Random State: 0\n",
      "Max Accuracy: 100.0%\n"
     ]
    }
   ],
   "source": [
    "from sklearn.tree import DecisionTreeClassifier\n",
    "\n",
    "max_accuracy = 0\n",
    "\n",
    "for x in range(200):\n",
    "    dt = DecisionTreeClassifier(random_state=x)\n",
    "    dt.fit(x_train,y_train)\n",
    "    y_pred_dt = dt.predict(x_test)\n",
    "    current_score = round(accuracy_score(y_pred_dt, y_test)*100, 2)\n",
    "    if(current_score > max_accuracy):\n",
    "        max_accuracy = current_score\n",
    "        best_x = x\n",
    "\n",
    "dt = DecisionTreeClassifier(random_state=best_x)\n",
    "dt.fit(x_train,y_train)\n",
    "y_pred_dt = dt.predict(x_test)\n",
    "\n",
    "print(f\"Best Random State: {best_x}\")\n",
    "print(f\"Max Accuracy: {max_accuracy}%\")"
   ]
  },
  {
   "cell_type": "code",
   "execution_count": 43,
   "id": "4908ff86",
   "metadata": {},
   "outputs": [
    {
     "name": "stdout",
     "output_type": "stream",
     "text": [
      "Accuracy Score : 100.0%\n"
     ]
    }
   ],
   "source": [
    "score_dt = round(accuracy_score(y_pred_dt, y_test)*100, 2)\n",
    "print(\"Accuracy Score : \" + str(score_dt) + \"%\")"
   ]
  },
  {
   "cell_type": "markdown",
   "id": "f2f4ab2c",
   "metadata": {},
   "source": [
    "Random Forest"
   ]
  },
  {
   "cell_type": "code",
   "execution_count": 44,
   "id": "9f24fe24",
   "metadata": {},
   "outputs": [
    {
     "name": "stdout",
     "output_type": "stream",
     "text": [
      "Best Random State: 0\n",
      "Max Accuracy: 100.0%\n"
     ]
    }
   ],
   "source": [
    "from sklearn.ensemble import RandomForestClassifier\n",
    "\n",
    "max_accuracy = 0\n",
    "best_x = 0 \n",
    "\n",
    "for x in range(20):\n",
    "    rf = RandomForestClassifier(random_state=x)\n",
    "    rf.fit(x_train, y_train)\n",
    "    y_pred_rf = rf.predict(x_test)\n",
    "    current_score = round(accuracy_score(y_test, y_pred_rf) * 100, 2)\n",
    "    \n",
    "    if current_score > max_accuracy:\n",
    "        max_accuracy = current_score\n",
    "        best_x = x\n",
    "\n",
    "rf = RandomForestClassifier(random_state=best_x)\n",
    "rf.fit(x_train, y_train)\n",
    "y_pred_rf = rf.predict(x_test)\n",
    "\n",
    "print(f\"Best Random State: {best_x}\")\n",
    "print(f\"Max Accuracy: {max_accuracy}%\")\n"
   ]
  },
  {
   "cell_type": "code",
   "execution_count": 45,
   "id": "538c1e0c",
   "metadata": {},
   "outputs": [
    {
     "name": "stdout",
     "output_type": "stream",
     "text": [
      "Accuracy Score : 100.0 %\n"
     ]
    }
   ],
   "source": [
    "score_rf = round(accuracy_score(y_pred_rf,y_test)*100,2)\n",
    "\n",
    "print(\"Accuracy Score : \" + str(score_rf) + \" %\")"
   ]
  },
  {
   "cell_type": "markdown",
   "id": "bceee013",
   "metadata": {},
   "source": [
    "XGBoost"
   ]
  },
  {
   "cell_type": "code",
   "execution_count": 51,
   "id": "b99771d0",
   "metadata": {},
   "outputs": [
    {
     "name": "stdout",
     "output_type": "stream",
     "text": [
      "Accuracy Score : 100.0%\n"
     ]
    }
   ],
   "source": [
    "import xgboost as xgb\n",
    "\n",
    "xgb_model = xgb.XGBClassifier(objective=\"binary:logistic\", random_state=42)\n",
    "xgb_model.fit(x_train, y_train)\n",
    "y_pred_xgb = xgb_model.predict(x_test)\n",
    "\n",
    "score_xbg = round(accuracy_score(y_test, y_pred_xgb)*100, 2)\n",
    "print(\"Accuracy Score : \" + str(score_xbg) + \"%\")"
   ]
  },
  {
   "cell_type": "markdown",
   "id": "b5ba9d30",
   "metadata": {},
   "source": [
    "Neutral Network"
   ]
  },
  {
   "cell_type": "code",
   "execution_count": 52,
   "id": "20f6712c",
   "metadata": {},
   "outputs": [
    {
     "name": "stdout",
     "output_type": "stream",
     "text": [
      "WARNING:tensorflow:From c:\\Users\\Brijesh\\AppData\\Local\\Programs\\Python\\Python311\\Lib\\site-packages\\keras\\src\\losses.py:2976: The name tf.losses.sparse_softmax_cross_entropy is deprecated. Please use tf.compat.v1.losses.sparse_softmax_cross_entropy instead.\n",
      "\n",
      "WARNING:tensorflow:From c:\\Users\\Brijesh\\AppData\\Local\\Programs\\Python\\Python311\\Lib\\site-packages\\keras\\src\\backend.py:873: The name tf.get_default_graph is deprecated. Please use tf.compat.v1.get_default_graph instead.\n",
      "\n",
      "WARNING:tensorflow:From c:\\Users\\Brijesh\\AppData\\Local\\Programs\\Python\\Python311\\Lib\\site-packages\\keras\\src\\optimizers\\__init__.py:309: The name tf.train.Optimizer is deprecated. Please use tf.compat.v1.train.Optimizer instead.\n",
      "\n",
      "Epoch 1/300\n",
      "WARNING:tensorflow:From c:\\Users\\Brijesh\\AppData\\Local\\Programs\\Python\\Python311\\Lib\\site-packages\\keras\\src\\utils\\tf_utils.py:492: The name tf.ragged.RaggedTensorValue is deprecated. Please use tf.compat.v1.ragged.RaggedTensorValue instead.\n",
      "\n",
      "WARNING:tensorflow:From c:\\Users\\Brijesh\\AppData\\Local\\Programs\\Python\\Python311\\Lib\\site-packages\\keras\\src\\engine\\base_layer_utils.py:384: The name tf.executing_eagerly_outside_functions is deprecated. Please use tf.compat.v1.executing_eagerly_outside_functions instead.\n",
      "\n",
      "26/26 [==============================] - 1s 1ms/step - loss: 23.6689 - accuracy: 0.4878\n",
      "Epoch 2/300\n",
      "26/26 [==============================] - 0s 1ms/step - loss: 8.8806 - accuracy: 0.4756\n",
      "Epoch 3/300\n",
      "26/26 [==============================] - 0s 1ms/step - loss: 5.0444 - accuracy: 0.4829\n",
      "Epoch 4/300\n",
      "26/26 [==============================] - 0s 920us/step - loss: 4.6881 - accuracy: 0.4854\n",
      "Epoch 5/300\n",
      "26/26 [==============================] - 0s 960us/step - loss: 4.4340 - accuracy: 0.4854\n",
      "Epoch 6/300\n",
      "26/26 [==============================] - 0s 1ms/step - loss: 4.1779 - accuracy: 0.4988\n",
      "Epoch 7/300\n",
      "26/26 [==============================] - 0s 934us/step - loss: 3.9297 - accuracy: 0.4988\n",
      "Epoch 8/300\n",
      "26/26 [==============================] - 0s 1ms/step - loss: 3.7079 - accuracy: 0.5049\n",
      "Epoch 9/300\n",
      "26/26 [==============================] - 0s 1ms/step - loss: 3.4452 - accuracy: 0.5207\n",
      "Epoch 10/300\n",
      "26/26 [==============================] - 0s 900us/step - loss: 3.2129 - accuracy: 0.5305\n",
      "Epoch 11/300\n",
      "26/26 [==============================] - 0s 920us/step - loss: 2.9849 - accuracy: 0.5366\n",
      "Epoch 12/300\n",
      "26/26 [==============================] - 0s 1ms/step - loss: 2.7791 - accuracy: 0.5524\n",
      "Epoch 13/300\n",
      "26/26 [==============================] - 0s 1ms/step - loss: 2.5725 - accuracy: 0.5585\n",
      "Epoch 14/300\n",
      "26/26 [==============================] - 0s 1ms/step - loss: 2.3823 - accuracy: 0.5585\n",
      "Epoch 15/300\n",
      "26/26 [==============================] - 0s 960us/step - loss: 2.1748 - accuracy: 0.5756\n",
      "Epoch 16/300\n",
      "26/26 [==============================] - 0s 880us/step - loss: 1.9916 - accuracy: 0.5841\n",
      "Epoch 17/300\n",
      "26/26 [==============================] - 0s 941us/step - loss: 1.7927 - accuracy: 0.5817\n",
      "Epoch 18/300\n",
      "26/26 [==============================] - 0s 900us/step - loss: 1.6409 - accuracy: 0.5768\n",
      "Epoch 19/300\n",
      "26/26 [==============================] - 0s 880us/step - loss: 1.5091 - accuracy: 0.5841\n",
      "Epoch 20/300\n",
      "26/26 [==============================] - 0s 880us/step - loss: 1.3100 - accuracy: 0.5951\n",
      "Epoch 21/300\n",
      "26/26 [==============================] - 0s 845us/step - loss: 1.1592 - accuracy: 0.5939\n",
      "Epoch 22/300\n",
      "26/26 [==============================] - 0s 880us/step - loss: 1.0372 - accuracy: 0.6159\n",
      "Epoch 23/300\n",
      "26/26 [==============================] - 0s 880us/step - loss: 0.9371 - accuracy: 0.6171\n",
      "Epoch 24/300\n",
      "26/26 [==============================] - 0s 821us/step - loss: 0.8285 - accuracy: 0.6159\n",
      "Epoch 25/300\n",
      "26/26 [==============================] - 0s 941us/step - loss: 0.7223 - accuracy: 0.6390\n",
      "Epoch 26/300\n",
      "26/26 [==============================] - 0s 821us/step - loss: 0.6491 - accuracy: 0.6793\n",
      "Epoch 27/300\n",
      "26/26 [==============================] - 0s 880us/step - loss: 0.5970 - accuracy: 0.7037\n",
      "Epoch 28/300\n",
      "26/26 [==============================] - 0s 840us/step - loss: 0.5582 - accuracy: 0.7195\n",
      "Epoch 29/300\n",
      "26/26 [==============================] - 0s 887us/step - loss: 0.5393 - accuracy: 0.7488\n",
      "Epoch 30/300\n",
      "26/26 [==============================] - 0s 920us/step - loss: 0.5133 - accuracy: 0.7646\n",
      "Epoch 31/300\n",
      "26/26 [==============================] - 0s 880us/step - loss: 0.5076 - accuracy: 0.7512\n",
      "Epoch 32/300\n",
      "26/26 [==============================] - 0s 962us/step - loss: 0.4862 - accuracy: 0.7768\n",
      "Epoch 33/300\n",
      "26/26 [==============================] - 0s 1ms/step - loss: 0.4877 - accuracy: 0.7793\n",
      "Epoch 34/300\n",
      "26/26 [==============================] - 0s 1ms/step - loss: 0.4760 - accuracy: 0.7854\n",
      "Epoch 35/300\n",
      "26/26 [==============================] - 0s 1ms/step - loss: 0.5037 - accuracy: 0.7585\n",
      "Epoch 36/300\n",
      "26/26 [==============================] - 0s 1ms/step - loss: 0.5004 - accuracy: 0.7585\n",
      "Epoch 37/300\n",
      "26/26 [==============================] - 0s 860us/step - loss: 0.4741 - accuracy: 0.7805\n",
      "Epoch 38/300\n",
      "26/26 [==============================] - 0s 800us/step - loss: 0.4631 - accuracy: 0.7854\n",
      "Epoch 39/300\n",
      "26/26 [==============================] - 0s 880us/step - loss: 0.4570 - accuracy: 0.7963\n",
      "Epoch 40/300\n",
      "26/26 [==============================] - 0s 861us/step - loss: 0.4619 - accuracy: 0.7951\n",
      "Epoch 41/300\n",
      "26/26 [==============================] - 0s 880us/step - loss: 0.4513 - accuracy: 0.7915\n",
      "Epoch 42/300\n",
      "26/26 [==============================] - 0s 880us/step - loss: 0.4488 - accuracy: 0.8000\n",
      "Epoch 43/300\n",
      "26/26 [==============================] - 0s 840us/step - loss: 0.4458 - accuracy: 0.7939\n",
      "Epoch 44/300\n",
      "26/26 [==============================] - 0s 940us/step - loss: 0.4437 - accuracy: 0.8037\n",
      "Epoch 45/300\n",
      "26/26 [==============================] - 0s 840us/step - loss: 0.4492 - accuracy: 0.7951\n",
      "Epoch 46/300\n",
      "26/26 [==============================] - 0s 860us/step - loss: 0.4439 - accuracy: 0.7951\n",
      "Epoch 47/300\n",
      "26/26 [==============================] - 0s 1ms/step - loss: 0.4416 - accuracy: 0.8061\n",
      "Epoch 48/300\n",
      "26/26 [==============================] - 0s 2ms/step - loss: 0.4354 - accuracy: 0.8049\n",
      "Epoch 49/300\n",
      "26/26 [==============================] - 0s 1ms/step - loss: 0.4361 - accuracy: 0.8061\n",
      "Epoch 50/300\n",
      "26/26 [==============================] - 0s 4ms/step - loss: 0.4398 - accuracy: 0.8037\n",
      "Epoch 51/300\n",
      "26/26 [==============================] - 0s 1ms/step - loss: 0.4347 - accuracy: 0.7976\n",
      "Epoch 52/300\n",
      "26/26 [==============================] - 0s 2ms/step - loss: 0.4269 - accuracy: 0.8134\n",
      "Epoch 53/300\n",
      "26/26 [==============================] - 0s 2ms/step - loss: 0.4283 - accuracy: 0.8244\n",
      "Epoch 54/300\n",
      "26/26 [==============================] - 0s 1ms/step - loss: 0.4270 - accuracy: 0.8037\n",
      "Epoch 55/300\n",
      "26/26 [==============================] - 0s 855us/step - loss: 0.4292 - accuracy: 0.8171\n",
      "Epoch 56/300\n",
      "26/26 [==============================] - 0s 941us/step - loss: 0.4232 - accuracy: 0.8207\n",
      "Epoch 57/300\n",
      "26/26 [==============================] - 0s 941us/step - loss: 0.4189 - accuracy: 0.8122\n",
      "Epoch 58/300\n",
      "26/26 [==============================] - 0s 902us/step - loss: 0.4203 - accuracy: 0.8220\n",
      "Epoch 59/300\n",
      "26/26 [==============================] - 0s 840us/step - loss: 0.4205 - accuracy: 0.8317\n",
      "Epoch 60/300\n",
      "26/26 [==============================] - 0s 823us/step - loss: 0.4504 - accuracy: 0.7915\n",
      "Epoch 61/300\n",
      "26/26 [==============================] - 0s 840us/step - loss: 0.4120 - accuracy: 0.8354\n",
      "Epoch 62/300\n",
      "26/26 [==============================] - 0s 840us/step - loss: 0.4134 - accuracy: 0.8256\n",
      "Epoch 63/300\n",
      "26/26 [==============================] - 0s 826us/step - loss: 0.4108 - accuracy: 0.8390\n",
      "Epoch 64/300\n",
      "26/26 [==============================] - 0s 841us/step - loss: 0.4105 - accuracy: 0.8317\n",
      "Epoch 65/300\n",
      "26/26 [==============================] - 0s 840us/step - loss: 0.4069 - accuracy: 0.8317\n",
      "Epoch 66/300\n",
      "26/26 [==============================] - 0s 880us/step - loss: 0.4116 - accuracy: 0.8341\n",
      "Epoch 67/300\n",
      "26/26 [==============================] - 0s 960us/step - loss: 0.4137 - accuracy: 0.8244\n",
      "Epoch 68/300\n",
      "26/26 [==============================] - 0s 958us/step - loss: 0.4111 - accuracy: 0.8305\n",
      "Epoch 69/300\n",
      "26/26 [==============================] - 0s 916us/step - loss: 0.4134 - accuracy: 0.8280\n",
      "Epoch 70/300\n",
      "26/26 [==============================] - 0s 800us/step - loss: 0.4032 - accuracy: 0.8378\n",
      "Epoch 71/300\n",
      "26/26 [==============================] - 0s 823us/step - loss: 0.4025 - accuracy: 0.8561\n",
      "Epoch 72/300\n",
      "26/26 [==============================] - 0s 800us/step - loss: 0.4081 - accuracy: 0.8280\n",
      "Epoch 73/300\n",
      "26/26 [==============================] - 0s 800us/step - loss: 0.4065 - accuracy: 0.8073\n",
      "Epoch 74/300\n",
      "26/26 [==============================] - 0s 1ms/step - loss: 0.4130 - accuracy: 0.8220\n",
      "Epoch 75/300\n",
      "26/26 [==============================] - 0s 975us/step - loss: 0.4280 - accuracy: 0.8024\n",
      "Epoch 76/300\n",
      "26/26 [==============================] - 0s 995us/step - loss: 0.4023 - accuracy: 0.8341\n",
      "Epoch 77/300\n",
      "26/26 [==============================] - 0s 2ms/step - loss: 0.3996 - accuracy: 0.8537\n",
      "Epoch 78/300\n",
      "26/26 [==============================] - 0s 2ms/step - loss: 0.3975 - accuracy: 0.8476\n",
      "Epoch 79/300\n",
      "26/26 [==============================] - 0s 2ms/step - loss: 0.3988 - accuracy: 0.8439\n",
      "Epoch 80/300\n",
      "26/26 [==============================] - 0s 962us/step - loss: 0.4022 - accuracy: 0.8439\n",
      "Epoch 81/300\n",
      "26/26 [==============================] - 0s 865us/step - loss: 0.3933 - accuracy: 0.8378\n",
      "Epoch 82/300\n",
      "26/26 [==============================] - 0s 840us/step - loss: 0.3978 - accuracy: 0.8451\n",
      "Epoch 83/300\n",
      "26/26 [==============================] - 0s 880us/step - loss: 0.3987 - accuracy: 0.8329\n",
      "Epoch 84/300\n",
      "26/26 [==============================] - 0s 1ms/step - loss: 0.4233 - accuracy: 0.7915\n",
      "Epoch 85/300\n",
      "26/26 [==============================] - 0s 941us/step - loss: 0.3927 - accuracy: 0.8195\n",
      "Epoch 86/300\n",
      "26/26 [==============================] - 0s 824us/step - loss: 0.4157 - accuracy: 0.8122\n",
      "Epoch 87/300\n",
      "26/26 [==============================] - 0s 880us/step - loss: 0.3996 - accuracy: 0.8305\n",
      "Epoch 88/300\n",
      "26/26 [==============================] - 0s 860us/step - loss: 0.4017 - accuracy: 0.8341\n",
      "Epoch 89/300\n",
      "26/26 [==============================] - 0s 840us/step - loss: 0.4016 - accuracy: 0.8268\n",
      "Epoch 90/300\n",
      "26/26 [==============================] - 0s 840us/step - loss: 0.3957 - accuracy: 0.8354\n",
      "Epoch 91/300\n",
      "26/26 [==============================] - 0s 860us/step - loss: 0.3986 - accuracy: 0.8232\n",
      "Epoch 92/300\n",
      "26/26 [==============================] - 0s 861us/step - loss: 0.4242 - accuracy: 0.8049\n",
      "Epoch 93/300\n",
      "26/26 [==============================] - 0s 821us/step - loss: 0.3916 - accuracy: 0.8329\n",
      "Epoch 94/300\n",
      "26/26 [==============================] - 0s 880us/step - loss: 0.3957 - accuracy: 0.8390\n",
      "Epoch 95/300\n",
      "26/26 [==============================] - 0s 801us/step - loss: 0.3956 - accuracy: 0.8402\n",
      "Epoch 96/300\n",
      "26/26 [==============================] - 0s 940us/step - loss: 0.3987 - accuracy: 0.8293\n",
      "Epoch 97/300\n",
      "26/26 [==============================] - 0s 840us/step - loss: 0.3877 - accuracy: 0.8402\n",
      "Epoch 98/300\n",
      "26/26 [==============================] - 0s 880us/step - loss: 0.3853 - accuracy: 0.8427\n",
      "Epoch 99/300\n",
      "26/26 [==============================] - 0s 840us/step - loss: 0.3911 - accuracy: 0.8341\n",
      "Epoch 100/300\n",
      "26/26 [==============================] - 0s 901us/step - loss: 0.3985 - accuracy: 0.8207\n",
      "Epoch 101/300\n",
      "26/26 [==============================] - 0s 920us/step - loss: 0.3929 - accuracy: 0.8305\n",
      "Epoch 102/300\n",
      "26/26 [==============================] - 0s 920us/step - loss: 0.3984 - accuracy: 0.8256\n",
      "Epoch 103/300\n",
      "26/26 [==============================] - 0s 880us/step - loss: 0.4004 - accuracy: 0.8280\n",
      "Epoch 104/300\n",
      "26/26 [==============================] - 0s 1ms/step - loss: 0.3835 - accuracy: 0.8549\n",
      "Epoch 105/300\n",
      "26/26 [==============================] - 0s 1ms/step - loss: 0.3857 - accuracy: 0.8427\n",
      "Epoch 106/300\n",
      "26/26 [==============================] - 0s 2ms/step - loss: 0.3811 - accuracy: 0.8537\n",
      "Epoch 107/300\n",
      "26/26 [==============================] - 0s 2ms/step - loss: 0.3928 - accuracy: 0.8232\n",
      "Epoch 108/300\n",
      "26/26 [==============================] - 0s 1ms/step - loss: 0.3878 - accuracy: 0.8366\n",
      "Epoch 109/300\n",
      "26/26 [==============================] - 0s 878us/step - loss: 0.3917 - accuracy: 0.8329\n",
      "Epoch 110/300\n",
      "26/26 [==============================] - 0s 1ms/step - loss: 0.3936 - accuracy: 0.8268\n",
      "Epoch 111/300\n",
      "26/26 [==============================] - 0s 880us/step - loss: 0.4007 - accuracy: 0.8134\n",
      "Epoch 112/300\n",
      "26/26 [==============================] - 0s 784us/step - loss: 0.3998 - accuracy: 0.8268\n",
      "Epoch 113/300\n",
      "26/26 [==============================] - 0s 860us/step - loss: 0.3850 - accuracy: 0.8488\n",
      "Epoch 114/300\n",
      "26/26 [==============================] - 0s 822us/step - loss: 0.4074 - accuracy: 0.8122\n",
      "Epoch 115/300\n",
      "26/26 [==============================] - 0s 800us/step - loss: 0.4005 - accuracy: 0.8305\n",
      "Epoch 116/300\n",
      "26/26 [==============================] - 0s 970us/step - loss: 0.3974 - accuracy: 0.8280\n",
      "Epoch 117/300\n",
      "26/26 [==============================] - 0s 900us/step - loss: 0.3824 - accuracy: 0.8463\n",
      "Epoch 118/300\n",
      "26/26 [==============================] - 0s 880us/step - loss: 0.3797 - accuracy: 0.8598\n",
      "Epoch 119/300\n",
      "26/26 [==============================] - 0s 880us/step - loss: 0.3823 - accuracy: 0.8476\n",
      "Epoch 120/300\n",
      "26/26 [==============================] - 0s 840us/step - loss: 0.3818 - accuracy: 0.8354\n",
      "Epoch 121/300\n",
      "26/26 [==============================] - 0s 890us/step - loss: 0.3987 - accuracy: 0.8256\n",
      "Epoch 122/300\n",
      "26/26 [==============================] - 0s 821us/step - loss: 0.3849 - accuracy: 0.8463\n",
      "Epoch 123/300\n",
      "26/26 [==============================] - 0s 840us/step - loss: 0.3914 - accuracy: 0.8244\n",
      "Epoch 124/300\n",
      "26/26 [==============================] - 0s 801us/step - loss: 0.3838 - accuracy: 0.8366\n",
      "Epoch 125/300\n",
      "26/26 [==============================] - 0s 941us/step - loss: 0.3931 - accuracy: 0.8232\n",
      "Epoch 126/300\n",
      "26/26 [==============================] - 0s 882us/step - loss: 0.3858 - accuracy: 0.8354\n",
      "Epoch 127/300\n",
      "26/26 [==============================] - 0s 880us/step - loss: 0.3853 - accuracy: 0.8451\n",
      "Epoch 128/300\n",
      "26/26 [==============================] - 0s 821us/step - loss: 0.4018 - accuracy: 0.8268\n",
      "Epoch 129/300\n",
      "26/26 [==============================] - 0s 838us/step - loss: 0.3877 - accuracy: 0.8317\n",
      "Epoch 130/300\n",
      "26/26 [==============================] - 0s 880us/step - loss: 0.3772 - accuracy: 0.8402\n",
      "Epoch 131/300\n",
      "26/26 [==============================] - 0s 920us/step - loss: 0.3810 - accuracy: 0.8439\n",
      "Epoch 132/300\n",
      "26/26 [==============================] - 0s 840us/step - loss: 0.3808 - accuracy: 0.8488\n",
      "Epoch 133/300\n",
      "26/26 [==============================] - 0s 891us/step - loss: 0.3794 - accuracy: 0.8451\n",
      "Epoch 134/300\n",
      "26/26 [==============================] - 0s 840us/step - loss: 0.3844 - accuracy: 0.8341\n",
      "Epoch 135/300\n",
      "26/26 [==============================] - 0s 960us/step - loss: 0.3839 - accuracy: 0.8256\n",
      "Epoch 136/300\n",
      "26/26 [==============================] - 0s 840us/step - loss: 0.3787 - accuracy: 0.8415\n",
      "Epoch 137/300\n",
      "26/26 [==============================] - 0s 923us/step - loss: 0.3826 - accuracy: 0.8268\n",
      "Epoch 138/300\n",
      "26/26 [==============================] - 0s 840us/step - loss: 0.3796 - accuracy: 0.8500\n",
      "Epoch 139/300\n",
      "26/26 [==============================] - 0s 880us/step - loss: 0.3829 - accuracy: 0.8439\n",
      "Epoch 140/300\n",
      "26/26 [==============================] - 0s 840us/step - loss: 0.3740 - accuracy: 0.8500\n",
      "Epoch 141/300\n",
      "26/26 [==============================] - 0s 801us/step - loss: 0.3788 - accuracy: 0.8427\n",
      "Epoch 142/300\n",
      "26/26 [==============================] - 0s 960us/step - loss: 0.3799 - accuracy: 0.8439\n",
      "Epoch 143/300\n",
      "26/26 [==============================] - 0s 1ms/step - loss: 0.3797 - accuracy: 0.8390\n",
      "Epoch 144/300\n",
      "26/26 [==============================] - 0s 800us/step - loss: 0.3759 - accuracy: 0.8476\n",
      "Epoch 145/300\n",
      "26/26 [==============================] - 0s 923us/step - loss: 0.3773 - accuracy: 0.8317\n",
      "Epoch 146/300\n",
      "26/26 [==============================] - 0s 960us/step - loss: 0.3874 - accuracy: 0.8329\n",
      "Epoch 147/300\n",
      "26/26 [==============================] - 0s 1ms/step - loss: 0.3798 - accuracy: 0.8415\n",
      "Epoch 148/300\n",
      "26/26 [==============================] - 0s 1ms/step - loss: 0.3779 - accuracy: 0.8476\n",
      "Epoch 149/300\n",
      "26/26 [==============================] - 0s 1ms/step - loss: 0.3784 - accuracy: 0.8378\n",
      "Epoch 150/300\n",
      "26/26 [==============================] - 0s 911us/step - loss: 0.3724 - accuracy: 0.8500\n",
      "Epoch 151/300\n",
      "26/26 [==============================] - 0s 840us/step - loss: 0.3831 - accuracy: 0.8402\n",
      "Epoch 152/300\n",
      "26/26 [==============================] - 0s 921us/step - loss: 0.3761 - accuracy: 0.8488\n",
      "Epoch 153/300\n",
      "26/26 [==============================] - 0s 960us/step - loss: 0.3884 - accuracy: 0.8390\n",
      "Epoch 154/300\n",
      "26/26 [==============================] - 0s 920us/step - loss: 0.3754 - accuracy: 0.8415\n",
      "Epoch 155/300\n",
      "26/26 [==============================] - 0s 921us/step - loss: 0.3836 - accuracy: 0.8476\n",
      "Epoch 156/300\n",
      "26/26 [==============================] - 0s 968us/step - loss: 0.3823 - accuracy: 0.8427\n",
      "Epoch 157/300\n",
      "26/26 [==============================] - 0s 840us/step - loss: 0.3731 - accuracy: 0.8463\n",
      "Epoch 158/300\n",
      "26/26 [==============================] - 0s 960us/step - loss: 0.3734 - accuracy: 0.8500\n",
      "Epoch 159/300\n",
      "26/26 [==============================] - 0s 880us/step - loss: 0.3791 - accuracy: 0.8415\n",
      "Epoch 160/300\n",
      "26/26 [==============================] - 0s 818us/step - loss: 0.3750 - accuracy: 0.8476\n",
      "Epoch 161/300\n",
      "26/26 [==============================] - 0s 941us/step - loss: 0.3747 - accuracy: 0.8500\n",
      "Epoch 162/300\n",
      "26/26 [==============================] - 0s 840us/step - loss: 0.3854 - accuracy: 0.8378\n",
      "Epoch 163/300\n",
      "26/26 [==============================] - 0s 880us/step - loss: 0.3724 - accuracy: 0.8537\n",
      "Epoch 164/300\n",
      "26/26 [==============================] - 0s 995us/step - loss: 0.3749 - accuracy: 0.8402\n",
      "Epoch 165/300\n",
      "26/26 [==============================] - 0s 1ms/step - loss: 0.3827 - accuracy: 0.8451\n",
      "Epoch 166/300\n",
      "26/26 [==============================] - 0s 1ms/step - loss: 0.3792 - accuracy: 0.8439\n",
      "Epoch 167/300\n",
      "26/26 [==============================] - 0s 899us/step - loss: 0.3684 - accuracy: 0.8463\n",
      "Epoch 168/300\n",
      "26/26 [==============================] - 0s 840us/step - loss: 0.3825 - accuracy: 0.8451\n",
      "Epoch 169/300\n",
      "26/26 [==============================] - 0s 920us/step - loss: 0.3740 - accuracy: 0.8366\n",
      "Epoch 170/300\n",
      "26/26 [==============================] - 0s 840us/step - loss: 0.3772 - accuracy: 0.8476\n",
      "Epoch 171/300\n",
      "26/26 [==============================] - 0s 901us/step - loss: 0.3683 - accuracy: 0.8549\n",
      "Epoch 172/300\n",
      "26/26 [==============================] - 0s 880us/step - loss: 0.3824 - accuracy: 0.8341\n",
      "Epoch 173/300\n",
      "26/26 [==============================] - 0s 880us/step - loss: 0.3914 - accuracy: 0.8354\n",
      "Epoch 174/300\n",
      "26/26 [==============================] - 0s 840us/step - loss: 0.3931 - accuracy: 0.8049\n",
      "Epoch 175/300\n",
      "26/26 [==============================] - 0s 939us/step - loss: 0.3849 - accuracy: 0.8207\n",
      "Epoch 176/300\n",
      "26/26 [==============================] - 0s 1ms/step - loss: 0.3878 - accuracy: 0.8341\n",
      "Epoch 177/300\n",
      "26/26 [==============================] - 0s 880us/step - loss: 0.3759 - accuracy: 0.8402\n",
      "Epoch 178/300\n",
      "26/26 [==============================] - 0s 960us/step - loss: 0.3837 - accuracy: 0.8378\n",
      "Epoch 179/300\n",
      "26/26 [==============================] - 0s 840us/step - loss: 0.3701 - accuracy: 0.8512\n",
      "Epoch 180/300\n",
      "26/26 [==============================] - 0s 880us/step - loss: 0.3674 - accuracy: 0.8451\n",
      "Epoch 181/300\n",
      "26/26 [==============================] - 0s 880us/step - loss: 0.3743 - accuracy: 0.8402\n",
      "Epoch 182/300\n",
      "26/26 [==============================] - 0s 840us/step - loss: 0.3689 - accuracy: 0.8573\n",
      "Epoch 183/300\n",
      "26/26 [==============================] - 0s 1ms/step - loss: 0.3912 - accuracy: 0.8293\n",
      "Epoch 184/300\n",
      "26/26 [==============================] - 0s 960us/step - loss: 0.4070 - accuracy: 0.8146\n",
      "Epoch 185/300\n",
      "26/26 [==============================] - 0s 980us/step - loss: 0.3773 - accuracy: 0.8354\n",
      "Epoch 186/300\n",
      "26/26 [==============================] - 0s 981us/step - loss: 0.3880 - accuracy: 0.8195\n",
      "Epoch 187/300\n",
      "26/26 [==============================] - 0s 960us/step - loss: 0.3898 - accuracy: 0.8232\n",
      "Epoch 188/300\n",
      "26/26 [==============================] - 0s 1ms/step - loss: 0.3820 - accuracy: 0.8329\n",
      "Epoch 189/300\n",
      "26/26 [==============================] - 0s 920us/step - loss: 0.3662 - accuracy: 0.8524\n",
      "Epoch 190/300\n",
      "26/26 [==============================] - 0s 882us/step - loss: 0.3839 - accuracy: 0.8341\n",
      "Epoch 191/300\n",
      "26/26 [==============================] - 0s 960us/step - loss: 0.3678 - accuracy: 0.8561\n",
      "Epoch 192/300\n",
      "26/26 [==============================] - 0s 840us/step - loss: 0.3755 - accuracy: 0.8549\n",
      "Epoch 193/300\n",
      "26/26 [==============================] - 0s 861us/step - loss: 0.3673 - accuracy: 0.8427\n",
      "Epoch 194/300\n",
      "26/26 [==============================] - 0s 1ms/step - loss: 0.3673 - accuracy: 0.8415\n",
      "Epoch 195/300\n",
      "26/26 [==============================] - 0s 960us/step - loss: 0.3709 - accuracy: 0.8451\n",
      "Epoch 196/300\n",
      "26/26 [==============================] - 0s 880us/step - loss: 0.3677 - accuracy: 0.8476\n",
      "Epoch 197/300\n",
      "26/26 [==============================] - 0s 962us/step - loss: 0.3654 - accuracy: 0.8561\n",
      "Epoch 198/300\n",
      "26/26 [==============================] - 0s 901us/step - loss: 0.3746 - accuracy: 0.8390\n",
      "Epoch 199/300\n",
      "26/26 [==============================] - 0s 880us/step - loss: 0.3676 - accuracy: 0.8415\n",
      "Epoch 200/300\n",
      "26/26 [==============================] - 0s 960us/step - loss: 0.3640 - accuracy: 0.8549\n",
      "Epoch 201/300\n",
      "26/26 [==============================] - 0s 981us/step - loss: 0.3692 - accuracy: 0.8512\n",
      "Epoch 202/300\n",
      "26/26 [==============================] - 0s 886us/step - loss: 0.3729 - accuracy: 0.8378\n",
      "Epoch 203/300\n",
      "26/26 [==============================] - 0s 960us/step - loss: 0.3703 - accuracy: 0.8451\n",
      "Epoch 204/300\n",
      "26/26 [==============================] - 0s 821us/step - loss: 0.3713 - accuracy: 0.8512\n",
      "Epoch 205/300\n",
      "26/26 [==============================] - 0s 919us/step - loss: 0.3799 - accuracy: 0.8293\n",
      "Epoch 206/300\n",
      "26/26 [==============================] - 0s 880us/step - loss: 0.3722 - accuracy: 0.8390\n",
      "Epoch 207/300\n",
      "26/26 [==============================] - 0s 880us/step - loss: 0.3671 - accuracy: 0.8415\n",
      "Epoch 208/300\n",
      "26/26 [==============================] - 0s 880us/step - loss: 0.3743 - accuracy: 0.8476\n",
      "Epoch 209/300\n",
      "26/26 [==============================] - 0s 901us/step - loss: 0.3957 - accuracy: 0.8402\n",
      "Epoch 210/300\n",
      "26/26 [==============================] - 0s 840us/step - loss: 0.3696 - accuracy: 0.8512\n",
      "Epoch 211/300\n",
      "26/26 [==============================] - 0s 960us/step - loss: 0.3652 - accuracy: 0.8451\n",
      "Epoch 212/300\n",
      "26/26 [==============================] - 0s 920us/step - loss: 0.3642 - accuracy: 0.8524\n",
      "Epoch 213/300\n",
      "26/26 [==============================] - 0s 886us/step - loss: 0.3619 - accuracy: 0.8537\n",
      "Epoch 214/300\n",
      "26/26 [==============================] - 0s 920us/step - loss: 0.3638 - accuracy: 0.8439\n",
      "Epoch 215/300\n",
      "26/26 [==============================] - 0s 916us/step - loss: 0.3801 - accuracy: 0.8415\n",
      "Epoch 216/300\n",
      "26/26 [==============================] - 0s 840us/step - loss: 0.3695 - accuracy: 0.8439\n",
      "Epoch 217/300\n",
      "26/26 [==============================] - 0s 978us/step - loss: 0.3633 - accuracy: 0.8488\n",
      "Epoch 218/300\n",
      "26/26 [==============================] - 0s 960us/step - loss: 0.3752 - accuracy: 0.8451\n",
      "Epoch 219/300\n",
      "26/26 [==============================] - 0s 840us/step - loss: 0.3656 - accuracy: 0.8427\n",
      "Epoch 220/300\n",
      "26/26 [==============================] - 0s 861us/step - loss: 0.3704 - accuracy: 0.8439\n",
      "Epoch 221/300\n",
      "26/26 [==============================] - 0s 933us/step - loss: 0.3735 - accuracy: 0.8463\n",
      "Epoch 222/300\n",
      "26/26 [==============================] - 0s 840us/step - loss: 0.3690 - accuracy: 0.8390\n",
      "Epoch 223/300\n",
      "26/26 [==============================] - 0s 1ms/step - loss: 0.3898 - accuracy: 0.8402\n",
      "Epoch 224/300\n",
      "26/26 [==============================] - 0s 860us/step - loss: 0.3658 - accuracy: 0.8500\n",
      "Epoch 225/300\n",
      "26/26 [==============================] - 0s 880us/step - loss: 0.3704 - accuracy: 0.8402\n",
      "Epoch 226/300\n",
      "26/26 [==============================] - 0s 800us/step - loss: 0.3941 - accuracy: 0.8220\n",
      "Epoch 227/300\n",
      "26/26 [==============================] - 0s 920us/step - loss: 0.3723 - accuracy: 0.8427\n",
      "Epoch 228/300\n",
      "26/26 [==============================] - 0s 845us/step - loss: 0.3673 - accuracy: 0.8451\n",
      "Epoch 229/300\n",
      "26/26 [==============================] - 0s 840us/step - loss: 0.3739 - accuracy: 0.8415\n",
      "Epoch 230/300\n",
      "26/26 [==============================] - 0s 960us/step - loss: 0.3681 - accuracy: 0.8476\n",
      "Epoch 231/300\n",
      "26/26 [==============================] - 0s 1ms/step - loss: 0.3677 - accuracy: 0.8622\n",
      "Epoch 232/300\n",
      "26/26 [==============================] - 0s 1ms/step - loss: 0.3778 - accuracy: 0.8415\n",
      "Epoch 233/300\n",
      "26/26 [==============================] - 0s 1ms/step - loss: 0.3677 - accuracy: 0.8488\n",
      "Epoch 234/300\n",
      "26/26 [==============================] - 0s 920us/step - loss: 0.3699 - accuracy: 0.8476\n",
      "Epoch 235/300\n",
      "26/26 [==============================] - 0s 821us/step - loss: 0.3792 - accuracy: 0.8390\n",
      "Epoch 236/300\n",
      "26/26 [==============================] - 0s 960us/step - loss: 0.3734 - accuracy: 0.8354\n",
      "Epoch 237/300\n",
      "26/26 [==============================] - 0s 880us/step - loss: 0.3646 - accuracy: 0.8415\n",
      "Epoch 238/300\n",
      "26/26 [==============================] - 0s 864us/step - loss: 0.3874 - accuracy: 0.8354\n",
      "Epoch 239/300\n",
      "26/26 [==============================] - 0s 941us/step - loss: 0.3897 - accuracy: 0.8268\n",
      "Epoch 240/300\n",
      "26/26 [==============================] - 0s 960us/step - loss: 0.3590 - accuracy: 0.8476\n",
      "Epoch 241/300\n",
      "26/26 [==============================] - 0s 882us/step - loss: 0.3649 - accuracy: 0.8463\n",
      "Epoch 242/300\n",
      "26/26 [==============================] - 0s 857us/step - loss: 0.3664 - accuracy: 0.8500\n",
      "Epoch 243/300\n",
      "26/26 [==============================] - 0s 900us/step - loss: 0.3654 - accuracy: 0.8476\n",
      "Epoch 244/300\n",
      "26/26 [==============================] - 0s 939us/step - loss: 0.3737 - accuracy: 0.8427\n",
      "Epoch 245/300\n",
      "26/26 [==============================] - 0s 920us/step - loss: 0.3782 - accuracy: 0.8378\n",
      "Epoch 246/300\n",
      "26/26 [==============================] - 0s 840us/step - loss: 0.3645 - accuracy: 0.8512\n",
      "Epoch 247/300\n",
      "26/26 [==============================] - 0s 2ms/step - loss: 0.3638 - accuracy: 0.8524\n",
      "Epoch 248/300\n",
      "26/26 [==============================] - 0s 940us/step - loss: 0.3605 - accuracy: 0.8573\n",
      "Epoch 249/300\n",
      "26/26 [==============================] - 0s 880us/step - loss: 0.3894 - accuracy: 0.8280\n",
      "Epoch 250/300\n",
      "26/26 [==============================] - 0s 840us/step - loss: 0.3665 - accuracy: 0.8573\n",
      "Epoch 251/300\n",
      "26/26 [==============================] - 0s 920us/step - loss: 0.3625 - accuracy: 0.8451\n",
      "Epoch 252/300\n",
      "26/26 [==============================] - 0s 861us/step - loss: 0.3650 - accuracy: 0.8512\n",
      "Epoch 253/300\n",
      "26/26 [==============================] - 0s 880us/step - loss: 0.3637 - accuracy: 0.8537\n",
      "Epoch 254/300\n",
      "26/26 [==============================] - 0s 840us/step - loss: 0.3629 - accuracy: 0.8537\n",
      "Epoch 255/300\n",
      "26/26 [==============================] - 0s 840us/step - loss: 0.3595 - accuracy: 0.8561\n",
      "Epoch 256/300\n",
      "26/26 [==============================] - 0s 842us/step - loss: 0.3627 - accuracy: 0.8524\n",
      "Epoch 257/300\n",
      "26/26 [==============================] - 0s 1ms/step - loss: 0.3644 - accuracy: 0.8415\n",
      "Epoch 258/300\n",
      "26/26 [==============================] - 0s 800us/step - loss: 0.3684 - accuracy: 0.8512\n",
      "Epoch 259/300\n",
      "26/26 [==============================] - 0s 901us/step - loss: 0.3615 - accuracy: 0.8451\n",
      "Epoch 260/300\n",
      "26/26 [==============================] - 0s 821us/step - loss: 0.3652 - accuracy: 0.8427\n",
      "Epoch 261/300\n",
      "26/26 [==============================] - 0s 880us/step - loss: 0.3847 - accuracy: 0.8439\n",
      "Epoch 262/300\n",
      "26/26 [==============================] - 0s 920us/step - loss: 0.3660 - accuracy: 0.8463\n",
      "Epoch 263/300\n",
      "26/26 [==============================] - 0s 920us/step - loss: 0.3709 - accuracy: 0.8439\n",
      "Epoch 264/300\n",
      "26/26 [==============================] - 0s 810us/step - loss: 0.3603 - accuracy: 0.8439\n",
      "Epoch 265/300\n",
      "26/26 [==============================] - 0s 937us/step - loss: 0.3725 - accuracy: 0.8354\n",
      "Epoch 266/300\n",
      "26/26 [==============================] - 0s 800us/step - loss: 0.3634 - accuracy: 0.8549\n",
      "Epoch 267/300\n",
      "26/26 [==============================] - 0s 777us/step - loss: 0.3639 - accuracy: 0.8500\n",
      "Epoch 268/300\n",
      "26/26 [==============================] - 0s 861us/step - loss: 0.3670 - accuracy: 0.8463\n",
      "Epoch 269/300\n",
      "26/26 [==============================] - 0s 920us/step - loss: 0.3652 - accuracy: 0.8488\n",
      "Epoch 270/300\n",
      "26/26 [==============================] - 0s 880us/step - loss: 0.3593 - accuracy: 0.8585\n",
      "Epoch 271/300\n",
      "26/26 [==============================] - 0s 920us/step - loss: 0.3651 - accuracy: 0.8439\n",
      "Epoch 272/300\n",
      "26/26 [==============================] - 0s 901us/step - loss: 0.3665 - accuracy: 0.8500\n",
      "Epoch 273/300\n",
      "26/26 [==============================] - 0s 840us/step - loss: 0.3714 - accuracy: 0.8341\n",
      "Epoch 274/300\n",
      "26/26 [==============================] - 0s 960us/step - loss: 0.3675 - accuracy: 0.8390\n",
      "Epoch 275/300\n",
      "26/26 [==============================] - 0s 941us/step - loss: 0.3596 - accuracy: 0.8585\n",
      "Epoch 276/300\n",
      "26/26 [==============================] - 0s 922us/step - loss: 0.3758 - accuracy: 0.8402\n",
      "Epoch 277/300\n",
      "26/26 [==============================] - 0s 800us/step - loss: 0.3725 - accuracy: 0.8390\n",
      "Epoch 278/300\n",
      "26/26 [==============================] - 0s 1ms/step - loss: 0.3668 - accuracy: 0.8317\n",
      "Epoch 279/300\n",
      "26/26 [==============================] - 0s 795us/step - loss: 0.3811 - accuracy: 0.8378\n",
      "Epoch 280/300\n",
      "26/26 [==============================] - 0s 960us/step - loss: 0.3691 - accuracy: 0.8488\n",
      "Epoch 281/300\n",
      "26/26 [==============================] - 0s 1ms/step - loss: 0.3746 - accuracy: 0.8439\n",
      "Epoch 282/300\n",
      "26/26 [==============================] - 0s 840us/step - loss: 0.3747 - accuracy: 0.8366\n",
      "Epoch 283/300\n",
      "26/26 [==============================] - 0s 901us/step - loss: 0.3633 - accuracy: 0.8512\n",
      "Epoch 284/300\n",
      "26/26 [==============================] - 0s 840us/step - loss: 0.3711 - accuracy: 0.8378\n",
      "Epoch 285/300\n",
      "26/26 [==============================] - 0s 840us/step - loss: 0.4075 - accuracy: 0.8159\n",
      "Epoch 286/300\n",
      "26/26 [==============================] - 0s 1ms/step - loss: 0.3913 - accuracy: 0.8244\n",
      "Epoch 287/300\n",
      "26/26 [==============================] - 0s 963us/step - loss: 0.3695 - accuracy: 0.8366\n",
      "Epoch 288/300\n",
      "26/26 [==============================] - 0s 1ms/step - loss: 0.3617 - accuracy: 0.8524\n",
      "Epoch 289/300\n",
      "26/26 [==============================] - 0s 880us/step - loss: 0.3594 - accuracy: 0.8549\n",
      "Epoch 290/300\n",
      "26/26 [==============================] - 0s 921us/step - loss: 0.3713 - accuracy: 0.8512\n",
      "Epoch 291/300\n",
      "26/26 [==============================] - 0s 3ms/step - loss: 0.3753 - accuracy: 0.8427\n",
      "Epoch 292/300\n",
      "26/26 [==============================] - 0s 1ms/step - loss: 0.3789 - accuracy: 0.8354\n",
      "Epoch 293/300\n",
      "26/26 [==============================] - 0s 800us/step - loss: 0.3871 - accuracy: 0.8378\n",
      "Epoch 294/300\n",
      "26/26 [==============================] - 0s 991us/step - loss: 0.3692 - accuracy: 0.8463\n",
      "Epoch 295/300\n",
      "26/26 [==============================] - 0s 880us/step - loss: 0.3770 - accuracy: 0.8415\n",
      "Epoch 296/300\n",
      "26/26 [==============================] - 0s 883us/step - loss: 0.3692 - accuracy: 0.8378\n",
      "Epoch 297/300\n",
      "26/26 [==============================] - 0s 826us/step - loss: 0.3623 - accuracy: 0.8488\n",
      "Epoch 298/300\n",
      "26/26 [==============================] - 0s 800us/step - loss: 0.3708 - accuracy: 0.8500\n",
      "Epoch 299/300\n",
      "26/26 [==============================] - 0s 883us/step - loss: 0.3781 - accuracy: 0.8329\n",
      "Epoch 300/300\n",
      "26/26 [==============================] - 0s 820us/step - loss: 0.3706 - accuracy: 0.8390\n"
     ]
    },
    {
     "data": {
      "text/plain": [
       "<keras.src.callbacks.History at 0x2068e607d90>"
      ]
     },
     "execution_count": 52,
     "metadata": {},
     "output_type": "execute_result"
    }
   ],
   "source": [
    "from keras.models import Sequential\n",
    "from keras.layers import Dense \n",
    "\n",
    "model = Sequential()\n",
    "model.add(Dense(11,activation='relu', input_dim= 13))\n",
    "model.add(Dense(1, activation='sigmoid'))\n",
    "\n",
    "model.compile(loss='binary_crossentropy', optimizer= 'adam', metrics=['accuracy'])\n",
    "\n",
    "model.fit(x_train,y_train,epochs=300)"
   ]
  },
  {
   "cell_type": "code",
   "execution_count": 53,
   "id": "3990866e",
   "metadata": {},
   "outputs": [
    {
     "name": "stdout",
     "output_type": "stream",
     "text": [
      "7/7 [==============================] - 0s 1ms/step\n"
     ]
    }
   ],
   "source": [
    "y_pred_nn = model.predict(x_test)"
   ]
  },
  {
   "cell_type": "code",
   "execution_count": 54,
   "id": "00818947",
   "metadata": {},
   "outputs": [
    {
     "data": {
      "text/plain": [
       "(205, 1)"
      ]
     },
     "execution_count": 54,
     "metadata": {},
     "output_type": "execute_result"
    }
   ],
   "source": [
    "y_pred_nn.shape"
   ]
  },
  {
   "cell_type": "code",
   "execution_count": 56,
   "id": "198507b0",
   "metadata": {},
   "outputs": [
    {
     "name": "stdout",
     "output_type": "stream",
     "text": [
      "Accuracy Score : 85.85%\n"
     ]
    }
   ],
   "source": [
    "import numpy as np\n",
    "\n",
    "rounded = np.round(y_pred_nn)\n",
    "y_pred_nn = rounded\n",
    "\n",
    "score_nn = round(accuracy_score(y_pred_nn, y_test)*100, 2)\n",
    "print(\"Accuracy Score : \" + str(score_nn) + \"%\")\n"
   ]
  },
  {
   "cell_type": "markdown",
   "id": "a02a149c",
   "metadata": {},
   "source": [
    "Final Output"
   ]
  },
  {
   "cell_type": "code",
   "execution_count": 57,
   "id": "bb2250f5",
   "metadata": {},
   "outputs": [
    {
     "name": "stdout",
     "output_type": "stream",
     "text": [
      "The accuracy score achieved using Logistic Reg is: 86.34 %\n",
      "The accuracy score achieved using Naive Bayes is: 85.37 %\n",
      "The accuracy score achieved using SVM is: 83.9 %\n",
      "The accuracy score achieved using KNN is: 72.2 %\n",
      "The accuracy score achieved using Decision Tree is: 100.0 %\n",
      "The accuracy score achieved using Random Forest is: 100.0 %\n",
      "The accuracy score achieved using XGBoost is: 100.0 %\n",
      "The accuracy score achieved using Neural Network is: 85.85 %\n"
     ]
    }
   ],
   "source": [
    "scores = [score_lr,score_nb,score_svm,score_knn,score_dt,score_rf,score_xbg,score_nn]\n",
    "algorithms = [\"Logistic Reg\",\"Naive Bayes\",\"SVM\",\"KNN\",\"Decision Tree\",\"Random Forest\",\"XGBoost\",\"Neural Network\"]    \n",
    "\n",
    "for i in range(len(algorithms)):\n",
    "    print(\"The accuracy score achieved using \"+algorithms[i]+\" is: \"+str(scores[i])+\" %\")\n"
   ]
  },
  {
   "cell_type": "code",
   "execution_count": 58,
   "id": "18d36c09",
   "metadata": {},
   "outputs": [
    {
     "data": {
      "text/plain": [
       "<Axes: xlabel='Algorithms', ylabel='Accuracy score'>"
      ]
     },
     "execution_count": 58,
     "metadata": {},
     "output_type": "execute_result"
    },
    {
     "data": {
      "image/png": "[encoded data removed]",
      "text/plain": [
       "<Figure size 1500x800 with 1 Axes>"
      ]
     },
     "metadata": {},
     "output_type": "display_data"
    }
   ],
   "source": [
    "sns.set(rc={'figure.figsize':(15,8)})\n",
    "plt.xlabel(\"Algorithms\")\n",
    "plt.ylabel(\"Accuracy score\")\n",
    "\n",
    "sns.barplot(x=algorithms, y=scores)"
   ]
  },
  {
   "cell_type": "code",
   "execution_count": 60,
   "id": "5ad93133",
   "metadata": {},
   "outputs": [
    {
     "name": "stdout",
     "output_type": "stream",
     "text": [
      "Model saved as heart_disease_random_forest_model.pkl using pickle\n"
     ]
    }
   ],
   "source": [
    "import pickle\n",
    "\n",
    "# Assume 'rf' is your trained Random Forest model\n",
    "# For example, if 'rf' is your trained RandomForestClassifier object\n",
    "\n",
    "# 1. Define the filename for your model\n",
    "pickle_filename = 'heart_disease_random_forest_model.pkl'\n",
    "\n",
    "# 2. Open the file in write-binary ('wb') mode and save the model\n",
    "with open(pickle_filename, 'wb') as file:\n",
    "    pickle.dump(rf, file)\n",
    "\n",
    "print(f\"Model saved as {pickle_filename} using pickle\")\n",
    "\n",
    "# How to load it back later:\n",
    "# with open(pickle_filename, 'rb') as file:\n",
    "#     loaded_model_pickle = pickle.load(file)\n",
    "#\n",
    "# # Now you can use loaded_model_pickle to make predictions\n",
    "# # For example:\n",
    "# # predictions = loaded_model_pickle.predict(x_test)"
   ]
  }
 ],
 "metadata": {
  "kernelspec": {
   "display_name": "Python 3",
   "language": "python",
   "name": "python3"
  },
  "language_info": {
   "codemirror_mode": {
    "name": "ipython",
    "version": 3
   },
   "file_extension": ".py",
   "mimetype": "text/x-python",
   "name": "python",
   "nbconvert_exporter": "python",
   "pygments_lexer": "ipython3",
   "version": "3.11.3"
  }
 },
 "nbformat": 4,
 "nbformat_minor": 5
}
